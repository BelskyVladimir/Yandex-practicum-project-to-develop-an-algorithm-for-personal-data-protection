{
 "cells": [
  {
   "cell_type": "markdown",
   "metadata": {
    "toc": true
   },
   "source": [
    "<h1>Содержание<span class=\"tocSkip\"></span></h1>\n",
    "<div class=\"toc\"><ul class=\"toc-item\"><li><span><a href=\"#Загрузка-данных\" data-toc-modified-id=\"Загрузка-данных-1\"><span class=\"toc-item-num\">1&nbsp;&nbsp;</span>Загрузка данных</a></span><ul class=\"toc-item\"><li><span><a href=\"#Загрузка-и-анализ-данных\" data-toc-modified-id=\"Загрузка-и-анализ-данных-1.1\"><span class=\"toc-item-num\">1.1&nbsp;&nbsp;</span>Загрузка и анализ данных</a></span></li><li><span><a href=\"#Подготовка-данных-для-построения-модели\" data-toc-modified-id=\"Подготовка-данных-для-построения-модели-1.2\"><span class=\"toc-item-num\">1.2&nbsp;&nbsp;</span>Подготовка данных для построения модели</a></span><ul class=\"toc-item\"><li><span><a href=\"#Масштабирование-признака-&quot;Зарплата&quot;\" data-toc-modified-id=\"Масштабирование-признака-&quot;Зарплата&quot;-1.2.1\"><span class=\"toc-item-num\">1.2.1&nbsp;&nbsp;</span>Масштабирование признака \"Зарплата\"</a></span></li><li><span><a href=\"#Разделение-данных-на-обучающую-и-тестовую-выборки\" data-toc-modified-id=\"Разделение-данных-на-обучающую-и-тестовую-выборки-1.2.2\"><span class=\"toc-item-num\">1.2.2&nbsp;&nbsp;</span>Разделение данных на обучающую и тестовую выборки</a></span></li><li><span><a href=\"#Проверка-признаков-на-корреляцию.\" data-toc-modified-id=\"Проверка-признаков-на-корреляцию.-1.2.3\"><span class=\"toc-item-num\">1.2.3&nbsp;&nbsp;</span>Проверка признаков на корреляцию.</a></span><ul class=\"toc-item\"><li><span><a href=\"#В-тренировочной-выборке\" data-toc-modified-id=\"В-тренировочной-выборке-1.2.3.1\"><span class=\"toc-item-num\">1.2.3.1&nbsp;&nbsp;</span>В тренировочной выборке</a></span></li><li><span><a href=\"#В-тестовой-выборке\" data-toc-modified-id=\"В-тестовой-выборке-1.2.3.2\"><span class=\"toc-item-num\">1.2.3.2&nbsp;&nbsp;</span>В тестовой выборке</a></span></li></ul></li></ul></li></ul></li><li><span><a href=\"#Проверка-возможности-восстановления-данных-с-помощью-обратного-преобразования.\" data-toc-modified-id=\"Проверка-возможности-восстановления-данных-с-помощью-обратного-преобразования.-2\"><span class=\"toc-item-num\">2&nbsp;&nbsp;</span>Проверка возможности восстановления данных с помощью обратного преобразования.</a></span></li><li><span><a href=\"#Алгоритм-преобразования\" data-toc-modified-id=\"Алгоритм-преобразования-3\"><span class=\"toc-item-num\">3&nbsp;&nbsp;</span>Алгоритм преобразования</a></span></li><li><span><a href=\"#Проверка-алгоритма\" data-toc-modified-id=\"Проверка-алгоритма-4\"><span class=\"toc-item-num\">4&nbsp;&nbsp;</span>Проверка алгоритма</a></span><ul class=\"toc-item\"><li><span><a href=\"#Анализ-точности-модели-Линейная-регрессия-на-исходных-данных\" data-toc-modified-id=\"Анализ-точности-модели-Линейная-регрессия-на-исходных-данных-4.1\"><span class=\"toc-item-num\">4.1&nbsp;&nbsp;</span>Анализ точности модели Линейная регрессия на исходных данных</a></span></li><li><span><a href=\"#Построение-алгоритма-шифрования\" data-toc-modified-id=\"Построение-алгоритма-шифрования-4.2\"><span class=\"toc-item-num\">4.2&nbsp;&nbsp;</span>Построение алгоритма шифрования</a></span><ul class=\"toc-item\"><li><span><a href=\"#Построение-матрицы-ключа\" data-toc-modified-id=\"Построение-матрицы-ключа-4.2.1\"><span class=\"toc-item-num\">4.2.1&nbsp;&nbsp;</span>Построение матрицы-ключа</a></span></li><li><span><a href=\"#Шифрование-данных-с-помощью-ключа\" data-toc-modified-id=\"Шифрование-данных-с-помощью-ключа-4.2.2\"><span class=\"toc-item-num\">4.2.2&nbsp;&nbsp;</span>Шифрование данных с помощью ключа</a></span></li><li><span><a href=\"#Проверка-восстановления-данных-обратным-преобразованием-на-тренировочной-выборке\" data-toc-modified-id=\"Проверка-восстановления-данных-обратным-преобразованием-на-тренировочной-выборке-4.2.3\"><span class=\"toc-item-num\">4.2.3&nbsp;&nbsp;</span>Проверка восстановления данных обратным преобразованием на тренировочной выборке</a></span></li></ul></li><li><span><a href=\"#Анализ-точности-модели-Линейная-регрессия-на-преобразованных-данных\" data-toc-modified-id=\"Анализ-точности-модели-Линейная-регрессия-на-преобразованных-данных-4.3\"><span class=\"toc-item-num\">4.3&nbsp;&nbsp;</span>Анализ точности модели Линейная регрессия на преобразованных данных</a></span></li><li><span><a href=\"#Сравнение-значений-метрики-R2-модели-Линейной-регрессии-на-исходных-и-преобразованных-данных\" data-toc-modified-id=\"Сравнение-значений-метрики-R2-модели-Линейной-регрессии-на-исходных-и-преобразованных-данных-4.4\"><span class=\"toc-item-num\">4.4&nbsp;&nbsp;</span>Сравнение значений метрики R2 модели Линейной регрессии на исходных и преобразованных данных</a></span></li></ul></li><li><span><a href=\"#Выводы\" data-toc-modified-id=\"Выводы-5\"><span class=\"toc-item-num\">5&nbsp;&nbsp;</span>Выводы</a></span></li><li><span><a href=\"#Чек-лист-проверки\" data-toc-modified-id=\"Чек-лист-проверки-6\"><span class=\"toc-item-num\">6&nbsp;&nbsp;</span>Чек-лист проверки</a></span></li></ul></div>"
   ]
  },
  {
   "cell_type": "markdown",
   "metadata": {},
   "source": [
    "# Разработка алгоритма защиты персональных данных клиентов"
   ]
  },
  {
   "cell_type": "markdown",
   "metadata": {},
   "source": [
    "Страховой компании необходимо защитить данные клиентов. Для этого необходимо разработать такой метод преобразования данных, чтобы по ним было сложно восстановить персональную информацию и обосновать корректность его работы.\n",
    "\n",
    "Нужно защитить данные, чтобы при преобразовании качество моделей машинного обучения не ухудшилось. Подбирать наилучшую модель не требуется."
   ]
  },
  {
   "cell_type": "markdown",
   "metadata": {},
   "source": [
    "<b>Цель исследования:</b> Разработка метода шифрования персональных данных клиентов страховой компании и проверка его работы на реальных данных.\n",
    "\n",
    "<b>Этапы исследования</b>\n",
    "\n",
    "1. Загрузка и анализ данных, подготовка даннызх к построению модели.\n",
    "2. Разработка алгоритма преобразования данных и проверка возможности восстановления данных с помощью обратного преобразования.\n",
    "3. Проверка утверждения о неизменности качесва модели до и после преобразования.\n",
    "4. Проверка алгоритма преобразования на реальных данных с помощью модели Линейная регрессия. Сравнение значений метрик R2 моделей до и после преобразования."
   ]
  },
  {
   "cell_type": "markdown",
   "metadata": {},
   "source": [
    "## Загрузка данных"
   ]
  },
  {
   "cell_type": "code",
   "execution_count": 1,
   "metadata": {},
   "outputs": [
    {
     "name": "stdout",
     "output_type": "stream",
     "text": [
      "Requirement already satisfied: phik in /opt/conda/lib/python3.9/site-packages (0.12.3)\n",
      "Requirement already satisfied: matplotlib>=2.2.3 in /opt/conda/lib/python3.9/site-packages (from phik) (3.3.4)\n",
      "Requirement already satisfied: scipy>=1.5.2 in /opt/conda/lib/python3.9/site-packages (from phik) (1.9.1)\n",
      "Requirement already satisfied: numpy>=1.18.0 in /opt/conda/lib/python3.9/site-packages (from phik) (1.21.1)\n",
      "Requirement already satisfied: pandas>=0.25.1 in /opt/conda/lib/python3.9/site-packages (from phik) (1.2.4)\n",
      "Requirement already satisfied: joblib>=0.14.1 in /opt/conda/lib/python3.9/site-packages (from phik) (1.1.0)\n",
      "Requirement already satisfied: cycler>=0.10 in /opt/conda/lib/python3.9/site-packages (from matplotlib>=2.2.3->phik) (0.11.0)\n",
      "Requirement already satisfied: pillow>=6.2.0 in /opt/conda/lib/python3.9/site-packages (from matplotlib>=2.2.3->phik) (8.4.0)\n",
      "Requirement already satisfied: kiwisolver>=1.0.1 in /opt/conda/lib/python3.9/site-packages (from matplotlib>=2.2.3->phik) (1.4.4)\n",
      "Requirement already satisfied: pyparsing!=2.0.4,!=2.1.2,!=2.1.6,>=2.0.3 in /opt/conda/lib/python3.9/site-packages (from matplotlib>=2.2.3->phik) (2.4.7)\n",
      "Requirement already satisfied: python-dateutil>=2.1 in /opt/conda/lib/python3.9/site-packages (from matplotlib>=2.2.3->phik) (2.8.1)\n",
      "Requirement already satisfied: pytz>=2017.3 in /opt/conda/lib/python3.9/site-packages (from pandas>=0.25.1->phik) (2021.1)\n",
      "Requirement already satisfied: six>=1.5 in /opt/conda/lib/python3.9/site-packages (from python-dateutil>=2.1->matplotlib>=2.2.3->phik) (1.16.0)\n",
      "Note: you may need to restart the kernel to use updated packages.\n"
     ]
    }
   ],
   "source": [
    "pip install phik"
   ]
  },
  {
   "cell_type": "code",
   "execution_count": 2,
   "metadata": {},
   "outputs": [],
   "source": [
    "# Загружаю неоходимые библиотеки.\n",
    "import pandas as pd\n",
    "import numpy as np\n",
    "import matplotlib.pyplot as plt\n",
    "import seaborn as sns\n",
    "from sklearn.model_selection import train_test_split\n",
    "from sklearn.preprocessing import StandardScaler\n",
    "from sklearn.linear_model import LinearRegression\n",
    "from sklearn.metrics import r2_score\n",
    "import phik\n",
    "from phik.report import plot_correlation_matrix\n",
    "from phik import report"
   ]
  },
  {
   "cell_type": "markdown",
   "metadata": {},
   "source": [
    "### Загрузка и анализ данных"
   ]
  },
  {
   "cell_type": "code",
   "execution_count": 3,
   "metadata": {},
   "outputs": [
    {
     "name": "stdout",
     "output_type": "stream",
     "text": [
      "<class 'pandas.core.frame.DataFrame'>\n",
      "RangeIndex: 5000 entries, 0 to 4999\n",
      "Data columns (total 5 columns):\n",
      " #   Column             Non-Null Count  Dtype  \n",
      "---  ------             --------------  -----  \n",
      " 0   Пол                5000 non-null   int64  \n",
      " 1   Возраст            5000 non-null   float64\n",
      " 2   Зарплата           5000 non-null   float64\n",
      " 3   Члены семьи        5000 non-null   int64  \n",
      " 4   Страховые выплаты  5000 non-null   int64  \n",
      "dtypes: float64(2), int64(3)\n",
      "memory usage: 195.4 KB\n"
     ]
    }
   ],
   "source": [
    "# Загружаю данные из файла.\n",
    "data = pd.read_csv('/datasets/insurance.csv')\n",
    "data.info()"
   ]
  },
  {
   "cell_type": "markdown",
   "metadata": {},
   "source": [
    "Данные содержат пять столбцов и 5000 строк."
   ]
  },
  {
   "cell_type": "code",
   "execution_count": 4,
   "metadata": {},
   "outputs": [
    {
     "data": {
      "text/html": [
       "<div>\n",
       "<style scoped>\n",
       "    .dataframe tbody tr th:only-of-type {\n",
       "        vertical-align: middle;\n",
       "    }\n",
       "\n",
       "    .dataframe tbody tr th {\n",
       "        vertical-align: top;\n",
       "    }\n",
       "\n",
       "    .dataframe thead th {\n",
       "        text-align: right;\n",
       "    }\n",
       "</style>\n",
       "<table border=\"1\" class=\"dataframe\">\n",
       "  <thead>\n",
       "    <tr style=\"text-align: right;\">\n",
       "      <th></th>\n",
       "      <th>Пол</th>\n",
       "      <th>Возраст</th>\n",
       "      <th>Зарплата</th>\n",
       "      <th>Члены семьи</th>\n",
       "      <th>Страховые выплаты</th>\n",
       "    </tr>\n",
       "  </thead>\n",
       "  <tbody>\n",
       "    <tr>\n",
       "      <th>0</th>\n",
       "      <td>1</td>\n",
       "      <td>41.0</td>\n",
       "      <td>49600.0</td>\n",
       "      <td>1</td>\n",
       "      <td>0</td>\n",
       "    </tr>\n",
       "    <tr>\n",
       "      <th>1</th>\n",
       "      <td>0</td>\n",
       "      <td>46.0</td>\n",
       "      <td>38000.0</td>\n",
       "      <td>1</td>\n",
       "      <td>1</td>\n",
       "    </tr>\n",
       "    <tr>\n",
       "      <th>2</th>\n",
       "      <td>0</td>\n",
       "      <td>29.0</td>\n",
       "      <td>21000.0</td>\n",
       "      <td>0</td>\n",
       "      <td>0</td>\n",
       "    </tr>\n",
       "    <tr>\n",
       "      <th>3</th>\n",
       "      <td>0</td>\n",
       "      <td>21.0</td>\n",
       "      <td>41700.0</td>\n",
       "      <td>2</td>\n",
       "      <td>0</td>\n",
       "    </tr>\n",
       "    <tr>\n",
       "      <th>4</th>\n",
       "      <td>1</td>\n",
       "      <td>28.0</td>\n",
       "      <td>26100.0</td>\n",
       "      <td>0</td>\n",
       "      <td>0</td>\n",
       "    </tr>\n",
       "  </tbody>\n",
       "</table>\n",
       "</div>"
      ],
      "text/plain": [
       "   Пол  Возраст  Зарплата  Члены семьи  Страховые выплаты\n",
       "0    1     41.0   49600.0            1                  0\n",
       "1    0     46.0   38000.0            1                  1\n",
       "2    0     29.0   21000.0            0                  0\n",
       "3    0     21.0   41700.0            2                  0\n",
       "4    1     28.0   26100.0            0                  0"
      ]
     },
     "execution_count": 4,
     "metadata": {},
     "output_type": "execute_result"
    }
   ],
   "source": [
    "data.head()"
   ]
  },
  {
   "cell_type": "code",
   "execution_count": 5,
   "metadata": {},
   "outputs": [
    {
     "data": {
      "text/plain": [
       "array([0, 1, 2, 3, 5, 4])"
      ]
     },
     "execution_count": 5,
     "metadata": {},
     "output_type": "execute_result"
    }
   ],
   "source": [
    "data['Страховые выплаты'].unique()"
   ]
  },
  {
   "cell_type": "markdown",
   "metadata": {},
   "source": [
    "Столбцы \"Возраст\" и \"Зарплата\" численные и имеют тип float. Столбец \"Пол\" категориальный, но выражены в виде чисел 0 и 1 и имеет тип int. Столбцы \"Члены семьи\" и \"Страховые выплаты\" количественные и имеют тип int."
   ]
  },
  {
   "cell_type": "code",
   "execution_count": 6,
   "metadata": {},
   "outputs": [
    {
     "data": {
      "text/plain": [
       "Пол                  0\n",
       "Возраст              0\n",
       "Зарплата             0\n",
       "Члены семьи          0\n",
       "Страховые выплаты    0\n",
       "dtype: int64"
      ]
     },
     "execution_count": 6,
     "metadata": {},
     "output_type": "execute_result"
    }
   ],
   "source": [
    "# Проверю данные на наличие пропусков.\n",
    "data.isna().sum()"
   ]
  },
  {
   "cell_type": "markdown",
   "metadata": {},
   "source": [
    "Пропусков в данных нет."
   ]
  },
  {
   "cell_type": "code",
   "execution_count": 7,
   "metadata": {},
   "outputs": [
    {
     "data": {
      "text/plain": [
       "153"
      ]
     },
     "execution_count": 7,
     "metadata": {},
     "output_type": "execute_result"
    }
   ],
   "source": [
    "# Проверю данные на наличие явных дубликатов.\n",
    "data.duplicated().sum()"
   ]
  },
  {
   "cell_type": "markdown",
   "metadata": {},
   "source": [
    "В данных имеется 153 явных дубликата. Это незначительное количество можно удалить."
   ]
  },
  {
   "cell_type": "code",
   "execution_count": 8,
   "metadata": {},
   "outputs": [
    {
     "data": {
      "text/plain": [
       "0"
      ]
     },
     "execution_count": 8,
     "metadata": {},
     "output_type": "execute_result"
    }
   ],
   "source": [
    "data = data.drop_duplicates().reset_index(drop=True)\n",
    "data.duplicated().sum()"
   ]
  },
  {
   "cell_type": "markdown",
   "metadata": {},
   "source": [
    "Явные дубликаты удалены."
   ]
  },
  {
   "cell_type": "markdown",
   "metadata": {},
   "source": [
    "### Подготовка данных для построения модели"
   ]
  },
  {
   "cell_type": "raw",
   "metadata": {},
   "source": [
    "В поставленной задаче целевым признаком является столбец \"Страховые выплаты\". Этот столбец содержит количественные значения, значит мне предстоит решать задачу регрессии. Для ее решения я буду использовать модель Линейная регрессия."
   ]
  },
  {
   "cell_type": "markdown",
   "metadata": {},
   "source": [
    "#### Масштабирование признака \"Зарплата\""
   ]
  },
  {
   "cell_type": "code",
   "execution_count": 9,
   "metadata": {},
   "outputs": [],
   "source": [
    "# Для выравнивания влияния признаков на работу модели уменьшу значения в столбце \"Зарплата\" в 1000 раз.\n",
    "data['Зарплата'] = data['Зарплата'] / 1000"
   ]
  },
  {
   "cell_type": "markdown",
   "metadata": {},
   "source": [
    "#### Разделение данных на обучающую и тестовую выборки"
   ]
  },
  {
   "cell_type": "code",
   "execution_count": 10,
   "metadata": {},
   "outputs": [],
   "source": [
    "features = data.drop('Страховые выплаты', axis=1)\n",
    "target = data['Страховые выплаты']\n",
    "features_train, features_test, target_train, target_test = train_test_split(\n",
    "    features, target, test_size=0.25, random_state=12345)"
   ]
  },
  {
   "cell_type": "code",
   "execution_count": 11,
   "metadata": {},
   "outputs": [
    {
     "data": {
      "text/plain": [
       "((3635, 4), (3635,))"
      ]
     },
     "execution_count": 11,
     "metadata": {},
     "output_type": "execute_result"
    }
   ],
   "source": [
    "features_train.shape, target_train.shape"
   ]
  },
  {
   "cell_type": "code",
   "execution_count": 12,
   "metadata": {},
   "outputs": [
    {
     "data": {
      "text/plain": [
       "((1212, 4), (1212,))"
      ]
     },
     "execution_count": 12,
     "metadata": {},
     "output_type": "execute_result"
    }
   ],
   "source": [
    "features_test.shape, target_test.shape"
   ]
  },
  {
   "cell_type": "markdown",
   "metadata": {},
   "source": [
    "Данные разделены на обучающую и тестовую выборки."
   ]
  },
  {
   "cell_type": "markdown",
   "metadata": {},
   "source": [
    "#### Проверка признаков на корреляцию."
   ]
  },
  {
   "cell_type": "markdown",
   "metadata": {},
   "source": [
    "##### В тренировочной выборке"
   ]
  },
  {
   "cell_type": "markdown",
   "metadata": {},
   "source": [
    "Так как в данных есть качественный признак и ряд признаков ненормально распределен, для проверки буду использовать коэффициент корреляции $\\phi_K$."
   ]
  },
  {
   "cell_type": "code",
   "execution_count": 15,
   "metadata": {},
   "outputs": [
    {
     "name": "stdout",
     "output_type": "stream",
     "text": [
      "interval columns not set, guessing: ['Пол', 'Возраст', 'Зарплата', 'Члены семьи']\n"
     ]
    },
    {
     "data": {
      "text/html": [
       "<div>\n",
       "<style scoped>\n",
       "    .dataframe tbody tr th:only-of-type {\n",
       "        vertical-align: middle;\n",
       "    }\n",
       "\n",
       "    .dataframe tbody tr th {\n",
       "        vertical-align: top;\n",
       "    }\n",
       "\n",
       "    .dataframe thead th {\n",
       "        text-align: right;\n",
       "    }\n",
       "</style>\n",
       "<table border=\"1\" class=\"dataframe\">\n",
       "  <thead>\n",
       "    <tr style=\"text-align: right;\">\n",
       "      <th></th>\n",
       "      <th>Пол</th>\n",
       "      <th>Возраст</th>\n",
       "      <th>Зарплата</th>\n",
       "      <th>Члены семьи</th>\n",
       "    </tr>\n",
       "  </thead>\n",
       "  <tbody>\n",
       "    <tr>\n",
       "      <th>Пол</th>\n",
       "      <td>1.0</td>\n",
       "      <td>0.000000</td>\n",
       "      <td>0.000000</td>\n",
       "      <td>0.0</td>\n",
       "    </tr>\n",
       "    <tr>\n",
       "      <th>Возраст</th>\n",
       "      <td>0.0</td>\n",
       "      <td>1.000000</td>\n",
       "      <td>0.164232</td>\n",
       "      <td>0.0</td>\n",
       "    </tr>\n",
       "    <tr>\n",
       "      <th>Зарплата</th>\n",
       "      <td>0.0</td>\n",
       "      <td>0.164232</td>\n",
       "      <td>1.000000</td>\n",
       "      <td>0.0</td>\n",
       "    </tr>\n",
       "    <tr>\n",
       "      <th>Члены семьи</th>\n",
       "      <td>0.0</td>\n",
       "      <td>0.000000</td>\n",
       "      <td>0.000000</td>\n",
       "      <td>1.0</td>\n",
       "    </tr>\n",
       "  </tbody>\n",
       "</table>\n",
       "</div>"
      ],
      "text/plain": [
       "             Пол   Возраст  Зарплата  Члены семьи\n",
       "Пол          1.0  0.000000  0.000000          0.0\n",
       "Возраст      0.0  1.000000  0.164232          0.0\n",
       "Зарплата     0.0  0.164232  1.000000          0.0\n",
       "Члены семьи  0.0  0.000000  0.000000          1.0"
      ]
     },
     "execution_count": 15,
     "metadata": {},
     "output_type": "execute_result"
    }
   ],
   "source": [
    "train_corr = features_train.phik_matrix()\n",
    "train_corr"
   ]
  },
  {
   "cell_type": "code",
   "execution_count": 16,
   "metadata": {},
   "outputs": [
    {
     "data": {
      "image/png": "[encoded data removed]",
      "text/plain": [
       "<Figure size 576x432 with 2 Axes>"
      ]
     },
     "metadata": {
      "needs_background": "light"
     },
     "output_type": "display_data"
    }
   ],
   "source": [
    "plot_correlation_matrix(train_corr.values, \n",
    "                        x_labels=train_corr.columns, \n",
    "                        y_labels=train_corr.index, \n",
    "                        vmin=0, vmax=1, color_map=\"Greens\", \n",
    "                        title=r\"correlation $\\phi_K$\", \n",
    "                        fontsize_factor=1.5, \n",
    "                        figsize=(8, 6))\n",
    "plt.tight_layout()"
   ]
  },
  {
   "cell_type": "markdown",
   "metadata": {},
   "source": [
    "##### В тестовой выборке"
   ]
  },
  {
   "cell_type": "code",
   "execution_count": 19,
   "metadata": {},
   "outputs": [
    {
     "name": "stdout",
     "output_type": "stream",
     "text": [
      "interval columns not set, guessing: ['Пол', 'Возраст', 'Зарплата', 'Члены семьи']\n"
     ]
    },
    {
     "data": {
      "text/html": [
       "<div>\n",
       "<style scoped>\n",
       "    .dataframe tbody tr th:only-of-type {\n",
       "        vertical-align: middle;\n",
       "    }\n",
       "\n",
       "    .dataframe tbody tr th {\n",
       "        vertical-align: top;\n",
       "    }\n",
       "\n",
       "    .dataframe thead th {\n",
       "        text-align: right;\n",
       "    }\n",
       "</style>\n",
       "<table border=\"1\" class=\"dataframe\">\n",
       "  <thead>\n",
       "    <tr style=\"text-align: right;\">\n",
       "      <th></th>\n",
       "      <th>Пол</th>\n",
       "      <th>Возраст</th>\n",
       "      <th>Зарплата</th>\n",
       "      <th>Члены семьи</th>\n",
       "    </tr>\n",
       "  </thead>\n",
       "  <tbody>\n",
       "    <tr>\n",
       "      <th>Пол</th>\n",
       "      <td>1.0</td>\n",
       "      <td>0.0</td>\n",
       "      <td>0.0</td>\n",
       "      <td>0.0</td>\n",
       "    </tr>\n",
       "    <tr>\n",
       "      <th>Возраст</th>\n",
       "      <td>0.0</td>\n",
       "      <td>1.0</td>\n",
       "      <td>0.0</td>\n",
       "      <td>0.0</td>\n",
       "    </tr>\n",
       "    <tr>\n",
       "      <th>Зарплата</th>\n",
       "      <td>0.0</td>\n",
       "      <td>0.0</td>\n",
       "      <td>1.0</td>\n",
       "      <td>0.0</td>\n",
       "    </tr>\n",
       "    <tr>\n",
       "      <th>Члены семьи</th>\n",
       "      <td>0.0</td>\n",
       "      <td>0.0</td>\n",
       "      <td>0.0</td>\n",
       "      <td>1.0</td>\n",
       "    </tr>\n",
       "  </tbody>\n",
       "</table>\n",
       "</div>"
      ],
      "text/plain": [
       "             Пол  Возраст  Зарплата  Члены семьи\n",
       "Пол          1.0      0.0       0.0          0.0\n",
       "Возраст      0.0      1.0       0.0          0.0\n",
       "Зарплата     0.0      0.0       1.0          0.0\n",
       "Члены семьи  0.0      0.0       0.0          1.0"
      ]
     },
     "execution_count": 19,
     "metadata": {},
     "output_type": "execute_result"
    }
   ],
   "source": [
    "test_corr = features_test.phik_matrix()\n",
    "test_corr"
   ]
  },
  {
   "cell_type": "code",
   "execution_count": 20,
   "metadata": {},
   "outputs": [
    {
     "data": {
      "image/png": "[encoded data removed]",
      "text/plain": [
       "<Figure size 576x432 with 2 Axes>"
      ]
     },
     "metadata": {
      "needs_background": "light"
     },
     "output_type": "display_data"
    }
   ],
   "source": [
    "plot_correlation_matrix(test_corr.values, \n",
    "                        x_labels=test_corr.columns, \n",
    "                        y_labels=test_corr.index, \n",
    "                        vmin=0, vmax=1, color_map=\"Blues\", \n",
    "                        title=r\"correlation $\\phi_K$\", \n",
    "                        fontsize_factor=1.5, \n",
    "                        figsize=(8, 6))\n",
    "plt.tight_layout()"
   ]
  },
  {
   "cell_type": "markdown",
   "metadata": {},
   "source": [
    "В тренировочной и тестовой выборке корреляция признаков практически отсутствует."
   ]
  },
  {
   "cell_type": "markdown",
   "metadata": {},
   "source": [
    "В загруженных данных содержится 5 столбцов и 5000 строк. Столбцы \"Возраст\" и \"Зарплата\" численные и имеют тип float. Столбец \"Пол\" категориальный, но выражены в виде чисел 0 и 1 и имеет тип int. Столбцы \"Члены семьи\" и \"Страховые выплаты\" количественные и имеют тип int.\n",
    "\n",
    "В данных было обнаружено и удалено 153 явных дубликата.\n",
    "\n",
    "В данных целевым признаком является столбец \"Страховые выплаты\". Этот столбец содержит количественные значения, значит мне предстоит решать задачу регрессии. Для ее решения я буду использовать модель Линейная регрессия. Для ее построения данные были разделены на тренировочную и тестовую выборки в соотношении 75:25.\n",
    "\n",
    "В тренировочной и тестовой выборке корреляция признаков практически отсутствует."
   ]
  },
  {
   "cell_type": "markdown",
   "metadata": {},
   "source": [
    "## Проверка возможности восстановления данных с помощью обратного преобразования."
   ]
  },
  {
   "cell_type": "markdown",
   "metadata": {},
   "source": [
    "Обозначения:\n",
    "\n",
    "- $X$ — матрица признаков (нулевой столбец состоит из единиц)\n",
    "\n",
    "- $y$ — вектор целевого признака\n",
    "\n",
    "- $P$ — матрица, на которую умножаются признаки\n",
    "\n",
    "- $w$ — вектор весов линейной регрессии (нулевой элемент равен сдвигу)"
   ]
  },
  {
   "cell_type": "markdown",
   "metadata": {},
   "source": [
    "Предсказания:\n",
    "\n",
    "$$\n",
    "a = Xw\n",
    "$$\n",
    "\n",
    "Задача обучения:\n",
    "\n",
    "$$\n",
    "w = \\arg\\min_w MSE(Xw, y)\n",
    "$$\n",
    "\n",
    "Формула обучения:\n",
    "\n",
    "$$\n",
    "w = (X^T X)^{-1} X^T y\n",
    "$$"
   ]
  },
  {
   "cell_type": "markdown",
   "metadata": {},
   "source": [
    "Персональные данные клиентов страховой компании используются с целью прогнозирования вероятности страхового случая с помощью методов машинного обучения., где они выполняют роль признаков.\n",
    "\n",
    "Для защиты персональных данных необходимо провести их шифрование. Одним из способов такого шифрования является умножение матрицы признаков на некоторую произвольную обратимую матрицу, выполняющую роль ключа шифра. Для восстановления данных нужно матрицу с зашифрованными данными умножить на матрицу, обратную ключу.\n",
    "\n",
    "\n",
    "Докажу, что из зашифрованных данных можно восстановить исходные.\n",
    "\n",
    "Зашифрованные данные получены умножением матрицы признаков X на ключ шифра P\n",
    "\n",
    "$$X' = XP$$\n",
    "\n",
    "Для восстановления исходных данных, умножу зашифрованные данные на матрицу, обратную ключу\n",
    "\n",
    "$$X'P^{-1} = XPP^{-1} = XE = X$$\n",
    "\n",
    "где Е - единичная матрица.\n",
    "\n",
    "Таким образом, с помощью матрицы, обратной ключу, можно восстановить исходные данные."
   ]
  },
  {
   "cell_type": "markdown",
   "metadata": {},
   "source": [
    "## Алгоритм преобразования"
   ]
  },
  {
   "cell_type": "markdown",
   "metadata": {},
   "source": [
    "Для шифрования персональных данных применим умножение признаков на случайную обратимую матрицу P. При этом качество предсказаний линейной регрессии изменится не должно. Для доказательства этого найду зависимость параметров линейной регрессии в исходной и преобразованной задачах."
   ]
  },
  {
   "cell_type": "markdown",
   "metadata": {},
   "source": [
    "Параметры линейной регрессии в исходной задаче определяются формулой\n",
    "\n",
    "$$\n",
    "w = (X^T X)^{-1} X^T y\n",
    "$$\n",
    "\n",
    "а в преобразованной задаче\n",
    "\n",
    "$$\n",
    "w' = (X'^T X')^{-1} X'^T y\n",
    "$$\n",
    "\n",
    "Подставлю этой в формуле\n",
    "\n",
    "$$X' = XP$$\n",
    "\n",
    "В результате применения основных операций над матрицами получим\n",
    "\n",
    "$$w' = ((XP)^TXP)^{-1}(XP)^T y$$\n",
    "\n",
    "$$~w' = (P^TX^TXP)^{-1} P^TX^T y~$$\n",
    "    \n",
    "$$w' = P^{-1}(P^TX^TX)^{-1}P^TX^T y$$\n",
    "\n",
    "$$w' = P^{-1}(X^TX)^{-1}(P^T)^{-1}P^TX^T y$$\n",
    "    \n",
    "$$w' = P^{-1}(X^TX)^{-1}EX^T y$$\n",
    "    \n",
    "$$w' = P^{-1}(X^TX)^{-1}X^T y$$\n",
    "\n",
    "Подставим\n",
    "\n",
    "$$(X^T X)^{-1} X^T y = w$$\n",
    "\n",
    "и получим\n",
    "\n",
    "$$w' = P^{-1} w$$\n",
    "\n",
    "Параметры линейной регрессии в исходной и преобразованной задачах взаимосвязаны, поэтому качество линейной регрессии в результате преобразования не пломеняется.    "
   ]
  },
  {
   "cell_type": "markdown",
   "metadata": {},
   "source": [
    "## Проверка алгоритма"
   ]
  },
  {
   "cell_type": "markdown",
   "metadata": {},
   "source": [
    "### Анализ точности модели Линейная регрессия на исходных данных"
   ]
  },
  {
   "cell_type": "code",
   "execution_count": 21,
   "metadata": {},
   "outputs": [
    {
     "name": "stdout",
     "output_type": "stream",
     "text": [
      "Значение метрики R2 на исходных данных: 0.4230772749214826\n"
     ]
    }
   ],
   "source": [
    "# Построение модель Линейная регрессия на исходных данных  и вычисление значения оценки тетерминации R2.\n",
    "model = LinearRegression()\n",
    "model.fit(features_train, target_train)\n",
    "predicted = model.predict(features_test)\n",
    "result = r2_score(target_test, predicted)\n",
    "print('Значение метрики R2 на исходных данных:', result)"
   ]
  },
  {
   "cell_type": "markdown",
   "metadata": {},
   "source": [
    "### Построение алгоритма шифрования"
   ]
  },
  {
   "cell_type": "markdown",
   "metadata": {},
   "source": [
    "#### Построение матрицы-ключа"
   ]
  },
  {
   "cell_type": "code",
   "execution_count": 22,
   "metadata": {},
   "outputs": [],
   "source": [
    "# Создам функцию для построения обратимой матрицы-ключа.\n",
    "def reversible_matrix(size):\n",
    "    try:\n",
    "        size = features_train.shape[1]\n",
    "        P = np.random.normal(size=(size,size))\n",
    "        P_inv = np.linalg.inv(P)\n",
    "    except:\n",
    "        try:\n",
    "            P = np.random.normal(size=(size,size))\n",
    "            P_inv = np.linalg.inv(P)\n",
    "        except:\n",
    "            try:\n",
    "                P = np.random.normal(size=(size,size))\n",
    "                P_inv = np.linalg.inv(P)\n",
    "            except:\n",
    "                print('Ошибка при создании обратимой матрицы')\n",
    "    return P, P_inv"
   ]
  },
  {
   "cell_type": "code",
   "execution_count": 23,
   "metadata": {},
   "outputs": [
    {
     "data": {
      "text/plain": [
       "array([[-0.6907739 ,  0.88188159, -1.48221681, -0.85750794],\n",
       "       [-0.65242894, -0.00916019, -0.58799378, -0.23392235],\n",
       "       [-1.15475346,  0.23074445, -0.45529641, -1.3185068 ],\n",
       "       [ 0.78308905, -1.23795821,  0.14381209,  1.24389981]])"
      ]
     },
     "execution_count": 23,
     "metadata": {},
     "output_type": "execute_result"
    }
   ],
   "source": [
    "# Создам прямую и обратную матрицы для реализации алгоритма преобразования.\n",
    "size = features_train.shape[1]\n",
    "P, P_inv = reversible_matrix(size)\n",
    "P"
   ]
  },
  {
   "cell_type": "code",
   "execution_count": 24,
   "metadata": {},
   "outputs": [
    {
     "data": {
      "text/plain": [
       "array([[ 1., -0.,  0.,  0.],\n",
       "       [-0.,  1., -0., -0.],\n",
       "       [ 0.,  0.,  1.,  0.],\n",
       "       [ 0.,  0.,  0.,  1.]])"
      ]
     },
     "execution_count": 24,
     "metadata": {},
     "output_type": "execute_result"
    }
   ],
   "source": [
    "# Проверю работу функции.\n",
    "P.dot(P_inv).round()"
   ]
  },
  {
   "cell_type": "markdown",
   "metadata": {},
   "source": [
    "Функция работает отлично, созданная матрица обратима."
   ]
  },
  {
   "cell_type": "markdown",
   "metadata": {},
   "source": [
    "#### Шифрование данных с помощью ключа"
   ]
  },
  {
   "cell_type": "code",
   "execution_count": 25,
   "metadata": {},
   "outputs": [],
   "source": [
    "features_train_crypted = features_train.dot(P)\n",
    "features_test_crypted = features_test.dot(P)"
   ]
  },
  {
   "cell_type": "code",
   "execution_count": 26,
   "metadata": {},
   "outputs": [
    {
     "data": {
      "text/html": [
       "<div>\n",
       "<style scoped>\n",
       "    .dataframe tbody tr th:only-of-type {\n",
       "        vertical-align: middle;\n",
       "    }\n",
       "\n",
       "    .dataframe tbody tr th {\n",
       "        vertical-align: top;\n",
       "    }\n",
       "\n",
       "    .dataframe thead th {\n",
       "        text-align: right;\n",
       "    }\n",
       "</style>\n",
       "<table border=\"1\" class=\"dataframe\">\n",
       "  <thead>\n",
       "    <tr style=\"text-align: right;\">\n",
       "      <th></th>\n",
       "      <th>0</th>\n",
       "      <th>1</th>\n",
       "      <th>2</th>\n",
       "      <th>3</th>\n",
       "    </tr>\n",
       "  </thead>\n",
       "  <tbody>\n",
       "    <tr>\n",
       "      <th>4460</th>\n",
       "      <td>-79.635896</td>\n",
       "      <td>9.843171</td>\n",
       "      <td>-40.989856</td>\n",
       "      <td>-75.920647</td>\n",
       "    </tr>\n",
       "    <tr>\n",
       "      <th>3773</th>\n",
       "      <td>-83.245985</td>\n",
       "      <td>10.994580</td>\n",
       "      <td>-46.765696</td>\n",
       "      <td>-75.350952</td>\n",
       "    </tr>\n",
       "    <tr>\n",
       "      <th>4561</th>\n",
       "      <td>-47.208302</td>\n",
       "      <td>5.003042</td>\n",
       "      <td>-26.716338</td>\n",
       "      <td>-41.288427</td>\n",
       "    </tr>\n",
       "    <tr>\n",
       "      <th>1385</th>\n",
       "      <td>-75.468594</td>\n",
       "      <td>8.522356</td>\n",
       "      <td>-45.301208</td>\n",
       "      <td>-62.152414</td>\n",
       "    </tr>\n",
       "    <tr>\n",
       "      <th>724</th>\n",
       "      <td>-62.843556</td>\n",
       "      <td>5.894829</td>\n",
       "      <td>-38.173072</td>\n",
       "      <td>-50.964465</td>\n",
       "    </tr>\n",
       "  </tbody>\n",
       "</table>\n",
       "</div>"
      ],
      "text/plain": [
       "              0          1          2          3\n",
       "4460 -79.635896   9.843171 -40.989856 -75.920647\n",
       "3773 -83.245985  10.994580 -46.765696 -75.350952\n",
       "4561 -47.208302   5.003042 -26.716338 -41.288427\n",
       "1385 -75.468594   8.522356 -45.301208 -62.152414\n",
       "724  -62.843556   5.894829 -38.173072 -50.964465"
      ]
     },
     "execution_count": 26,
     "metadata": {},
     "output_type": "execute_result"
    }
   ],
   "source": [
    "features_train_crypted.head()"
   ]
  },
  {
   "cell_type": "code",
   "execution_count": 27,
   "metadata": {},
   "outputs": [
    {
     "data": {
      "text/html": [
       "<div>\n",
       "<style scoped>\n",
       "    .dataframe tbody tr th:only-of-type {\n",
       "        vertical-align: middle;\n",
       "    }\n",
       "\n",
       "    .dataframe tbody tr th {\n",
       "        vertical-align: top;\n",
       "    }\n",
       "\n",
       "    .dataframe thead th {\n",
       "        text-align: right;\n",
       "    }\n",
       "</style>\n",
       "<table border=\"1\" class=\"dataframe\">\n",
       "  <thead>\n",
       "    <tr style=\"text-align: right;\">\n",
       "      <th></th>\n",
       "      <th>0</th>\n",
       "      <th>1</th>\n",
       "      <th>2</th>\n",
       "      <th>3</th>\n",
       "    </tr>\n",
       "  </thead>\n",
       "  <tbody>\n",
       "    <tr>\n",
       "      <th>1321</th>\n",
       "      <td>-70.201003</td>\n",
       "      <td>11.562335</td>\n",
       "      <td>-36.496064</td>\n",
       "      <td>-68.471243</td>\n",
       "    </tr>\n",
       "    <tr>\n",
       "      <th>3767</th>\n",
       "      <td>-97.666753</td>\n",
       "      <td>15.794815</td>\n",
       "      <td>-50.302051</td>\n",
       "      <td>-95.232621</td>\n",
       "    </tr>\n",
       "    <tr>\n",
       "      <th>166</th>\n",
       "      <td>-59.800893</td>\n",
       "      <td>5.925916</td>\n",
       "      <td>-36.032935</td>\n",
       "      <td>-50.786526</td>\n",
       "    </tr>\n",
       "    <tr>\n",
       "      <th>2935</th>\n",
       "      <td>-46.165292</td>\n",
       "      <td>1.620204</td>\n",
       "      <td>-31.431354</td>\n",
       "      <td>-32.082353</td>\n",
       "    </tr>\n",
       "    <tr>\n",
       "      <th>423</th>\n",
       "      <td>-60.201273</td>\n",
       "      <td>3.448187</td>\n",
       "      <td>-39.280741</td>\n",
       "      <td>-44.531566</td>\n",
       "    </tr>\n",
       "  </tbody>\n",
       "</table>\n",
       "</div>"
      ],
      "text/plain": [
       "              0          1          2          3\n",
       "1321 -70.201003  11.562335 -36.496064 -68.471243\n",
       "3767 -97.666753  15.794815 -50.302051 -95.232621\n",
       "166  -59.800893   5.925916 -36.032935 -50.786526\n",
       "2935 -46.165292   1.620204 -31.431354 -32.082353\n",
       "423  -60.201273   3.448187 -39.280741 -44.531566"
      ]
     },
     "execution_count": 27,
     "metadata": {},
     "output_type": "execute_result"
    }
   ],
   "source": [
    "features_test_crypted.head()"
   ]
  },
  {
   "cell_type": "markdown",
   "metadata": {},
   "source": [
    "#### Проверка восстановления данных обратным преобразованием на тренировочной выборке"
   ]
  },
  {
   "cell_type": "code",
   "execution_count": 28,
   "metadata": {},
   "outputs": [
    {
     "data": {
      "text/html": [
       "<div>\n",
       "<style scoped>\n",
       "    .dataframe tbody tr th:only-of-type {\n",
       "        vertical-align: middle;\n",
       "    }\n",
       "\n",
       "    .dataframe tbody tr th {\n",
       "        vertical-align: top;\n",
       "    }\n",
       "\n",
       "    .dataframe thead th {\n",
       "        text-align: right;\n",
       "    }\n",
       "</style>\n",
       "<table border=\"1\" class=\"dataframe\">\n",
       "  <thead>\n",
       "    <tr style=\"text-align: right;\">\n",
       "      <th></th>\n",
       "      <th>Пол</th>\n",
       "      <th>Возраст</th>\n",
       "      <th>Зарплата</th>\n",
       "      <th>Члены семьи</th>\n",
       "    </tr>\n",
       "  </thead>\n",
       "  <tbody>\n",
       "    <tr>\n",
       "      <th>0</th>\n",
       "      <td>1</td>\n",
       "      <td>41.0</td>\n",
       "      <td>49.6</td>\n",
       "      <td>1</td>\n",
       "    </tr>\n",
       "    <tr>\n",
       "      <th>3</th>\n",
       "      <td>0</td>\n",
       "      <td>21.0</td>\n",
       "      <td>41.7</td>\n",
       "      <td>2</td>\n",
       "    </tr>\n",
       "    <tr>\n",
       "      <th>4</th>\n",
       "      <td>1</td>\n",
       "      <td>28.0</td>\n",
       "      <td>26.1</td>\n",
       "      <td>0</td>\n",
       "    </tr>\n",
       "    <tr>\n",
       "      <th>5</th>\n",
       "      <td>1</td>\n",
       "      <td>43.0</td>\n",
       "      <td>41.0</td>\n",
       "      <td>2</td>\n",
       "    </tr>\n",
       "    <tr>\n",
       "      <th>7</th>\n",
       "      <td>1</td>\n",
       "      <td>25.0</td>\n",
       "      <td>38.6</td>\n",
       "      <td>4</td>\n",
       "    </tr>\n",
       "  </tbody>\n",
       "</table>\n",
       "</div>"
      ],
      "text/plain": [
       "   Пол  Возраст  Зарплата  Члены семьи\n",
       "0    1     41.0      49.6            1\n",
       "3    0     21.0      41.7            2\n",
       "4    1     28.0      26.1            0\n",
       "5    1     43.0      41.0            2\n",
       "7    1     25.0      38.6            4"
      ]
     },
     "execution_count": 28,
     "metadata": {},
     "output_type": "execute_result"
    }
   ],
   "source": [
    "# Исходные данные.\n",
    "features_train.sort_index().head()"
   ]
  },
  {
   "cell_type": "code",
   "execution_count": 29,
   "metadata": {},
   "outputs": [],
   "source": [
    "features_train_new = features_train_crypted.dot(P_inv)"
   ]
  },
  {
   "cell_type": "code",
   "execution_count": 30,
   "metadata": {},
   "outputs": [
    {
     "data": {
      "text/html": [
       "<div>\n",
       "<style scoped>\n",
       "    .dataframe tbody tr th:only-of-type {\n",
       "        vertical-align: middle;\n",
       "    }\n",
       "\n",
       "    .dataframe tbody tr th {\n",
       "        vertical-align: top;\n",
       "    }\n",
       "\n",
       "    .dataframe thead th {\n",
       "        text-align: right;\n",
       "    }\n",
       "</style>\n",
       "<table border=\"1\" class=\"dataframe\">\n",
       "  <thead>\n",
       "    <tr style=\"text-align: right;\">\n",
       "      <th></th>\n",
       "      <th>0</th>\n",
       "      <th>1</th>\n",
       "      <th>2</th>\n",
       "      <th>3</th>\n",
       "    </tr>\n",
       "  </thead>\n",
       "  <tbody>\n",
       "    <tr>\n",
       "      <th>0</th>\n",
       "      <td>1.0</td>\n",
       "      <td>41.0</td>\n",
       "      <td>50.0</td>\n",
       "      <td>1.0</td>\n",
       "    </tr>\n",
       "    <tr>\n",
       "      <th>3</th>\n",
       "      <td>-0.0</td>\n",
       "      <td>21.0</td>\n",
       "      <td>42.0</td>\n",
       "      <td>2.0</td>\n",
       "    </tr>\n",
       "    <tr>\n",
       "      <th>4</th>\n",
       "      <td>1.0</td>\n",
       "      <td>28.0</td>\n",
       "      <td>26.0</td>\n",
       "      <td>-0.0</td>\n",
       "    </tr>\n",
       "    <tr>\n",
       "      <th>5</th>\n",
       "      <td>1.0</td>\n",
       "      <td>43.0</td>\n",
       "      <td>41.0</td>\n",
       "      <td>2.0</td>\n",
       "    </tr>\n",
       "    <tr>\n",
       "      <th>7</th>\n",
       "      <td>1.0</td>\n",
       "      <td>25.0</td>\n",
       "      <td>39.0</td>\n",
       "      <td>4.0</td>\n",
       "    </tr>\n",
       "  </tbody>\n",
       "</table>\n",
       "</div>"
      ],
      "text/plain": [
       "     0     1     2    3\n",
       "0  1.0  41.0  50.0  1.0\n",
       "3 -0.0  21.0  42.0  2.0\n",
       "4  1.0  28.0  26.0 -0.0\n",
       "5  1.0  43.0  41.0  2.0\n",
       "7  1.0  25.0  39.0  4.0"
      ]
     },
     "execution_count": 30,
     "metadata": {},
     "output_type": "execute_result"
    }
   ],
   "source": [
    "features_train_new.round().sort_index().head()"
   ]
  },
  {
   "cell_type": "markdown",
   "metadata": {},
   "source": [
    "Данные восстановлены с помощью умножения на матрицу, обратную ключу."
   ]
  },
  {
   "cell_type": "markdown",
   "metadata": {},
   "source": [
    "###  Анализ точности модели Линейная регрессия на преобразованных данных"
   ]
  },
  {
   "cell_type": "code",
   "execution_count": 31,
   "metadata": {},
   "outputs": [
    {
     "name": "stdout",
     "output_type": "stream",
     "text": [
      "Значение метрики R2 на исходных данных: 0.4230772749214844\n"
     ]
    }
   ],
   "source": [
    "# Построение модели Линейная регрессия на преобразованных данных  и вычисление значения оценки тетерминации R2.\n",
    "model = LinearRegression()\n",
    "model.fit(features_train_crypted, target_train)\n",
    "predicted_crypted = model.predict(features_test_crypted)\n",
    "result_crypted = r2_score(target_test, predicted_crypted)\n",
    "print('Значение метрики R2 на исходных данных:', result_crypted)"
   ]
  },
  {
   "cell_type": "markdown",
   "metadata": {},
   "source": [
    "### Сравнение значений метрики R2 модели Линейной регрессии на исходных и преобразованных данных"
   ]
  },
  {
   "cell_type": "code",
   "execution_count": 32,
   "metadata": {},
   "outputs": [
    {
     "name": "stdout",
     "output_type": "stream",
     "text": [
      "значение метрики R2\n",
      "На исходных данных: 0.4230772749214826\n",
      "На преобразованных данных: 0.4230772749214844\n",
      "Разница: 1.7763568394002505e-15\n"
     ]
    }
   ],
   "source": [
    "print('значение метрики R2')\n",
    "print('На исходных данных:', result)\n",
    "print('На преобразованных данных:', result_crypted)\n",
    "print('Разница:', result_crypted - result)"
   ]
  },
  {
   "cell_type": "markdown",
   "metadata": {},
   "source": [
    "Качество моделей на исходных и преобразованных данных практически не изменилось."
   ]
  },
  {
   "cell_type": "markdown",
   "metadata": {},
   "source": [
    "## Выводы\n",
    "\n",
    "Передо мной стояла задача разработать метод шифрования персональных данных клиентов страховой компании и проверить его работу на реальных данных.\n",
    "\n",
    "1. Загрузка и анализ данных, подготовка даннызх к построению модели.\n",
    "\n",
    "Предоставленные данные были загружены из файла и изучены. В загруженных данных содержится 5 столбцов и 5000 строк. Столбцы \"Возраст\" и \"Зарплата\" численные и имеют тип float. Столбец \"Пол\" категориальный, но выражены в виде чисел 0 и 1 и имеет тип int. Столбцы \"Члены семьи\" и \"Страховые выплаты\" количественные и имеют тип int.\n",
    "\n",
    "В данных было обнаружено и удалено 153 явных дубликата. Значения в столбце \"Зарплата\" уменьшены в 1000 раз для выравнивания влияния признаков на работу модели.\n",
    "\n",
    "В данных целевым признаком является столбец \"Страховые выплаты\". Этот столбец содержит количественные значения, значит мне предстоит решать задачу регрессии. Для ее решения я буду использовать модель Линейная регрессия. Для ее построения данные были разделены на тренировочную и тестовую выборки в соотношении 75:25.\n",
    "\n",
    "В тренировочной и тестовой выборке корреляция признаков практически отсутствует. \n",
    "\n",
    "2. Разработка алгоритма преобразования данных и проверка возможности восстановления данных с помощью обратного преобразования.\n",
    "\n",
    "Для защиты информации был предложен алгоритм умножения матрицы признаков на случайную обратимую матрицу, выполняющую роль ключа. С помощью математических выкладок было доказана возможность восстановления данных с помощью умножения преобразованных признаков на матрицу, обратную матрице-ключу.\n",
    "\n",
    "3. Проверка утверждения о неизменности качесва модели до и после преобразования.\n",
    "\n",
    "Для шифрования персональных данных применим умножение признаков на случайную обратимую матрицу P. При этом качество предсказаний линейной регрессии изменится не должно. Для доказательства этого была найдена зависимость параметров линейной регрессии в исходной и преобразованной задачах, что подтвердило утверждение о неизменности качества модели до и посде преобразования.\n",
    "\n",
    "4. Проверка алгоритма преобразования на реальных данных с помощью модели Линейная регрессия. Сравнение значений метрик R2 моделей до и после преобразования.\n",
    "\n",
    "- Случайным образом была построена квадратная матрица ключ размером, равным количеству обучающих признаков и обратная ей.\n",
    "- С помощью ключа были зашифрованы данные в тренировочной и тестовой выборках.\n",
    "- Возможность восстановления данных умножением на матрицу, обратную ключу была подтвержнена двойным преобразованием тренировочной выборки.\n",
    "- Были построены две модели Линейной регрессии. Одна - на данных до преобразования, другая - на данных после преобразования. Значения коэффициента детерминации различаются в 16 знаке после нуля, что подтверждает возможность использования предложенного алгоритма для защиты персональных данных.\n",
    "\n",
    "<b>Выводы</b>\n",
    "\n",
    "- Разработанный алгоритм защиты персональных данных позволяет использовать их в зашифрованном виде для прогнозирования страховых случаев с помощью моделей машинного обучения.\n",
    "- Шифрование данных производится с помощью обратимой матрицы-ключа.\n",
    "- Точность модели после применения алгоритма практически не меняется.\n",
    "- Зашифрованные данные можно восстановить с помощью матрицы, обратной к матрице-ключу."
   ]
  },
  {
   "cell_type": "code",
   "execution_count": null,
   "metadata": {},
   "outputs": [],
   "source": []
  }
 ],
 "metadata": {
  "ExecuteTimeLog": [
   {
    "duration": 370,
    "start_time": "2023-02-18T18:13:15.852Z"
   },
   {
    "duration": 97,
    "start_time": "2023-02-18T18:13:17.497Z"
   },
   {
    "duration": 16,
    "start_time": "2023-02-18T18:13:47.481Z"
   },
   {
    "duration": 6,
    "start_time": "2023-02-18T18:14:52.847Z"
   },
   {
    "duration": 61,
    "start_time": "2023-02-18T18:15:28.044Z"
   },
   {
    "duration": 47,
    "start_time": "2023-02-19T09:09:13.489Z"
   },
   {
    "duration": 338,
    "start_time": "2023-02-19T09:09:23.053Z"
   },
   {
    "duration": 99,
    "start_time": "2023-02-19T09:09:23.894Z"
   },
   {
    "duration": 16,
    "start_time": "2023-02-19T09:09:25.975Z"
   },
   {
    "duration": 6,
    "start_time": "2023-02-19T09:09:28.108Z"
   },
   {
    "duration": 5,
    "start_time": "2023-02-19T09:09:32.363Z"
   },
   {
    "duration": 10,
    "start_time": "2023-02-19T09:10:15.972Z"
   },
   {
    "duration": 11,
    "start_time": "2023-02-19T09:10:42.335Z"
   },
   {
    "duration": 13,
    "start_time": "2023-02-19T09:13:17.350Z"
   },
   {
    "duration": 13,
    "start_time": "2023-02-19T09:13:46.652Z"
   },
   {
    "duration": 6,
    "start_time": "2023-02-19T09:14:41.621Z"
   },
   {
    "duration": 13,
    "start_time": "2023-02-19T09:15:41.739Z"
   },
   {
    "duration": 16,
    "start_time": "2023-02-19T09:16:38.011Z"
   },
   {
    "duration": 15,
    "start_time": "2023-02-19T09:18:04.812Z"
   },
   {
    "duration": 5,
    "start_time": "2023-02-19T09:21:52.973Z"
   },
   {
    "duration": 9,
    "start_time": "2023-02-19T09:22:07.037Z"
   },
   {
    "duration": 4,
    "start_time": "2023-02-19T10:17:09.307Z"
   },
   {
    "duration": 638,
    "start_time": "2023-02-19T10:31:31.723Z"
   },
   {
    "duration": 7,
    "start_time": "2023-02-19T10:43:56.851Z"
   },
   {
    "duration": 4,
    "start_time": "2023-02-19T10:44:43.520Z"
   },
   {
    "duration": 4,
    "start_time": "2023-02-19T10:45:07.533Z"
   },
   {
    "duration": 6,
    "start_time": "2023-02-19T10:56:33.370Z"
   },
   {
    "duration": 62,
    "start_time": "2023-02-19T10:57:38.744Z"
   },
   {
    "duration": 1091,
    "start_time": "2023-02-19T10:58:25.950Z"
   },
   {
    "duration": 36,
    "start_time": "2023-02-19T10:58:27.043Z"
   },
   {
    "duration": 14,
    "start_time": "2023-02-19T10:58:27.080Z"
   },
   {
    "duration": 7,
    "start_time": "2023-02-19T10:58:27.096Z"
   },
   {
    "duration": 27,
    "start_time": "2023-02-19T10:58:27.105Z"
   },
   {
    "duration": 14,
    "start_time": "2023-02-19T10:58:27.133Z"
   },
   {
    "duration": 11,
    "start_time": "2023-02-19T10:58:27.148Z"
   },
   {
    "duration": 33,
    "start_time": "2023-02-19T10:58:27.160Z"
   },
   {
    "duration": 22,
    "start_time": "2023-02-19T10:58:27.195Z"
   },
   {
    "duration": 9,
    "start_time": "2023-02-19T10:58:49.858Z"
   },
   {
    "duration": 8,
    "start_time": "2023-02-19T10:59:26.980Z"
   },
   {
    "duration": 92,
    "start_time": "2023-02-19T10:59:31.849Z"
   },
   {
    "duration": 5,
    "start_time": "2023-02-19T10:59:56.406Z"
   },
   {
    "duration": 1095,
    "start_time": "2023-02-19T11:05:09.963Z"
   },
   {
    "duration": 38,
    "start_time": "2023-02-19T11:05:11.060Z"
   },
   {
    "duration": 14,
    "start_time": "2023-02-19T11:05:11.100Z"
   },
   {
    "duration": 5,
    "start_time": "2023-02-19T11:05:11.116Z"
   },
   {
    "duration": 10,
    "start_time": "2023-02-19T11:05:11.124Z"
   },
   {
    "duration": 9,
    "start_time": "2023-02-19T11:05:11.135Z"
   },
   {
    "duration": 7,
    "start_time": "2023-02-19T11:05:11.145Z"
   },
   {
    "duration": 5,
    "start_time": "2023-02-19T11:05:11.153Z"
   },
   {
    "duration": 33,
    "start_time": "2023-02-19T11:05:11.160Z"
   },
   {
    "duration": 10,
    "start_time": "2023-02-19T11:05:11.195Z"
   },
   {
    "duration": 7,
    "start_time": "2023-02-19T11:05:17.296Z"
   },
   {
    "duration": 12,
    "start_time": "2023-02-19T11:05:19.120Z"
   },
   {
    "duration": 105,
    "start_time": "2023-02-19T11:05:46.049Z"
   },
   {
    "duration": 974,
    "start_time": "2023-02-19T11:24:09.943Z"
   },
   {
    "duration": 36,
    "start_time": "2023-02-19T11:24:10.919Z"
   },
   {
    "duration": 17,
    "start_time": "2023-02-19T11:24:10.956Z"
   },
   {
    "duration": 6,
    "start_time": "2023-02-19T11:24:10.976Z"
   },
   {
    "duration": 10,
    "start_time": "2023-02-19T11:24:10.984Z"
   },
   {
    "duration": 14,
    "start_time": "2023-02-19T11:24:10.996Z"
   },
   {
    "duration": 10,
    "start_time": "2023-02-19T11:24:11.011Z"
   },
   {
    "duration": 7,
    "start_time": "2023-02-19T11:24:11.022Z"
   },
   {
    "duration": 5,
    "start_time": "2023-02-19T11:24:11.030Z"
   },
   {
    "duration": 8,
    "start_time": "2023-02-19T11:24:11.038Z"
   },
   {
    "duration": 8,
    "start_time": "2023-02-19T11:24:11.048Z"
   },
   {
    "duration": 11,
    "start_time": "2023-02-19T11:24:20.192Z"
   },
   {
    "duration": 97,
    "start_time": "2023-02-19T11:24:35.842Z"
   },
   {
    "duration": 1014,
    "start_time": "2023-02-19T11:25:37.651Z"
   },
   {
    "duration": 35,
    "start_time": "2023-02-19T11:25:38.667Z"
   },
   {
    "duration": 14,
    "start_time": "2023-02-19T11:25:38.703Z"
   },
   {
    "duration": 9,
    "start_time": "2023-02-19T11:25:38.718Z"
   },
   {
    "duration": 6,
    "start_time": "2023-02-19T11:25:38.729Z"
   },
   {
    "duration": 9,
    "start_time": "2023-02-19T11:25:38.736Z"
   },
   {
    "duration": 5,
    "start_time": "2023-02-19T11:25:38.746Z"
   },
   {
    "duration": 5,
    "start_time": "2023-02-19T11:25:38.753Z"
   },
   {
    "duration": 32,
    "start_time": "2023-02-19T11:25:38.760Z"
   },
   {
    "duration": 7,
    "start_time": "2023-02-19T11:25:38.794Z"
   },
   {
    "duration": 8,
    "start_time": "2023-02-19T11:25:45.162Z"
   },
   {
    "duration": 5,
    "start_time": "2023-02-19T11:25:49.896Z"
   },
   {
    "duration": 10,
    "start_time": "2023-02-19T11:26:05.734Z"
   },
   {
    "duration": 96,
    "start_time": "2023-02-19T11:26:22.466Z"
   },
   {
    "duration": 1065,
    "start_time": "2023-02-19T11:34:51.102Z"
   },
   {
    "duration": 37,
    "start_time": "2023-02-19T11:34:52.168Z"
   },
   {
    "duration": 15,
    "start_time": "2023-02-19T11:34:52.207Z"
   },
   {
    "duration": 11,
    "start_time": "2023-02-19T11:34:52.223Z"
   },
   {
    "duration": 6,
    "start_time": "2023-02-19T11:34:52.237Z"
   },
   {
    "duration": 9,
    "start_time": "2023-02-19T11:34:52.245Z"
   },
   {
    "duration": 7,
    "start_time": "2023-02-19T11:34:52.255Z"
   },
   {
    "duration": 25,
    "start_time": "2023-02-19T11:34:52.263Z"
   },
   {
    "duration": 18,
    "start_time": "2023-02-19T11:34:52.290Z"
   },
   {
    "duration": 20,
    "start_time": "2023-02-19T11:34:52.310Z"
   },
   {
    "duration": 11,
    "start_time": "2023-02-19T11:34:52.332Z"
   },
   {
    "duration": 8,
    "start_time": "2023-02-19T11:34:57.783Z"
   },
   {
    "duration": 15,
    "start_time": "2023-02-19T11:34:59.017Z"
   },
   {
    "duration": 100,
    "start_time": "2023-02-19T11:36:12.075Z"
   },
   {
    "duration": 14,
    "start_time": "2023-02-19T11:36:37.982Z"
   },
   {
    "duration": 5,
    "start_time": "2023-02-19T11:37:02.448Z"
   },
   {
    "duration": 11,
    "start_time": "2023-02-19T11:37:05.176Z"
   },
   {
    "duration": 1002,
    "start_time": "2023-02-19T11:37:55.051Z"
   },
   {
    "duration": 37,
    "start_time": "2023-02-19T11:37:56.055Z"
   },
   {
    "duration": 17,
    "start_time": "2023-02-19T11:37:56.094Z"
   },
   {
    "duration": 9,
    "start_time": "2023-02-19T11:37:56.113Z"
   },
   {
    "duration": 7,
    "start_time": "2023-02-19T11:37:56.124Z"
   },
   {
    "duration": 9,
    "start_time": "2023-02-19T11:37:56.133Z"
   },
   {
    "duration": 4,
    "start_time": "2023-02-19T11:38:43.505Z"
   },
   {
    "duration": 10,
    "start_time": "2023-02-19T11:38:52.187Z"
   },
   {
    "duration": 4,
    "start_time": "2023-02-19T11:38:57.215Z"
   },
   {
    "duration": 5,
    "start_time": "2023-02-19T11:38:58.280Z"
   },
   {
    "duration": 10,
    "start_time": "2023-02-19T11:39:04.736Z"
   },
   {
    "duration": 6,
    "start_time": "2023-02-19T11:39:35.942Z"
   },
   {
    "duration": 12,
    "start_time": "2023-02-19T11:40:07.080Z"
   },
   {
    "duration": 4,
    "start_time": "2023-02-19T11:40:15.816Z"
   },
   {
    "duration": 7,
    "start_time": "2023-02-19T11:40:30.175Z"
   },
   {
    "duration": 9,
    "start_time": "2023-02-19T11:40:31.396Z"
   },
   {
    "duration": 9,
    "start_time": "2023-02-19T11:40:36.674Z"
   },
   {
    "duration": 1042,
    "start_time": "2023-02-19T11:41:23.643Z"
   },
   {
    "duration": 37,
    "start_time": "2023-02-19T11:41:24.687Z"
   },
   {
    "duration": 17,
    "start_time": "2023-02-19T11:41:24.726Z"
   },
   {
    "duration": 6,
    "start_time": "2023-02-19T11:41:24.745Z"
   },
   {
    "duration": 7,
    "start_time": "2023-02-19T11:41:24.753Z"
   },
   {
    "duration": 8,
    "start_time": "2023-02-19T11:41:24.762Z"
   },
   {
    "duration": 5,
    "start_time": "2023-02-19T11:41:24.772Z"
   },
   {
    "duration": 7,
    "start_time": "2023-02-19T11:41:24.791Z"
   },
   {
    "duration": 5,
    "start_time": "2023-02-19T11:41:24.800Z"
   },
   {
    "duration": 8,
    "start_time": "2023-02-19T11:41:24.807Z"
   },
   {
    "duration": 6,
    "start_time": "2023-02-19T11:41:24.816Z"
   },
   {
    "duration": 10,
    "start_time": "2023-02-19T11:41:24.823Z"
   },
   {
    "duration": 10,
    "start_time": "2023-02-19T11:41:24.835Z"
   },
   {
    "duration": 46,
    "start_time": "2023-02-19T11:41:24.847Z"
   },
   {
    "duration": 6,
    "start_time": "2023-02-19T11:41:36.649Z"
   },
   {
    "duration": 1015,
    "start_time": "2023-02-19T11:41:59.533Z"
   },
   {
    "duration": 43,
    "start_time": "2023-02-19T11:42:00.550Z"
   },
   {
    "duration": 15,
    "start_time": "2023-02-19T11:42:00.595Z"
   },
   {
    "duration": 17,
    "start_time": "2023-02-19T11:42:00.612Z"
   },
   {
    "duration": 44,
    "start_time": "2023-02-19T11:42:00.631Z"
   },
   {
    "duration": 45,
    "start_time": "2023-02-19T11:42:00.677Z"
   },
   {
    "duration": 41,
    "start_time": "2023-02-19T11:42:00.724Z"
   },
   {
    "duration": 53,
    "start_time": "2023-02-19T11:42:00.766Z"
   },
   {
    "duration": 59,
    "start_time": "2023-02-19T11:42:00.821Z"
   },
   {
    "duration": 68,
    "start_time": "2023-02-19T11:42:00.882Z"
   },
   {
    "duration": 22,
    "start_time": "2023-02-19T11:42:00.952Z"
   },
   {
    "duration": 65,
    "start_time": "2023-02-19T11:42:00.976Z"
   },
   {
    "duration": 10,
    "start_time": "2023-02-19T11:42:11.238Z"
   },
   {
    "duration": 1041,
    "start_time": "2023-02-19T11:42:37.011Z"
   },
   {
    "duration": 36,
    "start_time": "2023-02-19T11:42:38.054Z"
   },
   {
    "duration": 13,
    "start_time": "2023-02-19T11:42:38.092Z"
   },
   {
    "duration": 5,
    "start_time": "2023-02-19T11:42:38.107Z"
   },
   {
    "duration": 6,
    "start_time": "2023-02-19T11:42:38.113Z"
   },
   {
    "duration": 10,
    "start_time": "2023-02-19T11:42:38.120Z"
   },
   {
    "duration": 3,
    "start_time": "2023-02-19T11:42:38.132Z"
   },
   {
    "duration": 6,
    "start_time": "2023-02-19T11:42:38.136Z"
   },
   {
    "duration": 7,
    "start_time": "2023-02-19T11:42:38.144Z"
   },
   {
    "duration": 11,
    "start_time": "2023-02-19T11:42:38.152Z"
   },
   {
    "duration": 27,
    "start_time": "2023-02-19T11:42:38.164Z"
   },
   {
    "duration": 8,
    "start_time": "2023-02-19T11:42:38.192Z"
   },
   {
    "duration": 92,
    "start_time": "2023-02-19T11:42:42.913Z"
   },
   {
    "duration": 10,
    "start_time": "2023-02-19T11:42:55.881Z"
   },
   {
    "duration": 10,
    "start_time": "2023-02-19T11:42:59.766Z"
   },
   {
    "duration": 8,
    "start_time": "2023-02-19T11:44:31.989Z"
   },
   {
    "duration": 5,
    "start_time": "2023-02-19T11:44:37.944Z"
   },
   {
    "duration": 8,
    "start_time": "2023-02-19T11:44:38.889Z"
   },
   {
    "duration": 1072,
    "start_time": "2023-02-19T11:45:00.868Z"
   },
   {
    "duration": 37,
    "start_time": "2023-02-19T11:45:01.943Z"
   },
   {
    "duration": 14,
    "start_time": "2023-02-19T11:45:01.982Z"
   },
   {
    "duration": 27,
    "start_time": "2023-02-19T11:45:01.997Z"
   },
   {
    "duration": 24,
    "start_time": "2023-02-19T11:45:02.027Z"
   },
   {
    "duration": 52,
    "start_time": "2023-02-19T11:45:02.053Z"
   },
   {
    "duration": 44,
    "start_time": "2023-02-19T11:45:02.107Z"
   },
   {
    "duration": 18,
    "start_time": "2023-02-19T11:45:02.153Z"
   },
   {
    "duration": 23,
    "start_time": "2023-02-19T11:45:02.173Z"
   },
   {
    "duration": 18,
    "start_time": "2023-02-19T11:45:02.197Z"
   },
   {
    "duration": 26,
    "start_time": "2023-02-19T11:45:02.217Z"
   },
   {
    "duration": 27,
    "start_time": "2023-02-19T11:45:02.247Z"
   },
   {
    "duration": 35,
    "start_time": "2023-02-19T11:45:02.276Z"
   },
   {
    "duration": 34,
    "start_time": "2023-02-19T11:45:02.313Z"
   },
   {
    "duration": 18,
    "start_time": "2023-02-19T11:45:02.348Z"
   },
   {
    "duration": 8,
    "start_time": "2023-02-19T11:45:06.353Z"
   },
   {
    "duration": 5,
    "start_time": "2023-02-19T11:45:39.762Z"
   },
   {
    "duration": 90,
    "start_time": "2023-02-19T11:45:41.034Z"
   },
   {
    "duration": 1061,
    "start_time": "2023-02-19T11:45:58.275Z"
   },
   {
    "duration": 38,
    "start_time": "2023-02-19T11:45:59.338Z"
   },
   {
    "duration": 15,
    "start_time": "2023-02-19T11:45:59.377Z"
   },
   {
    "duration": 5,
    "start_time": "2023-02-19T11:45:59.394Z"
   },
   {
    "duration": 5,
    "start_time": "2023-02-19T11:45:59.401Z"
   },
   {
    "duration": 11,
    "start_time": "2023-02-19T11:45:59.407Z"
   },
   {
    "duration": 5,
    "start_time": "2023-02-19T11:45:59.419Z"
   },
   {
    "duration": 8,
    "start_time": "2023-02-19T11:45:59.425Z"
   },
   {
    "duration": 7,
    "start_time": "2023-02-19T11:45:59.434Z"
   },
   {
    "duration": 7,
    "start_time": "2023-02-19T11:45:59.443Z"
   },
   {
    "duration": 7,
    "start_time": "2023-02-19T11:45:59.451Z"
   },
   {
    "duration": 33,
    "start_time": "2023-02-19T11:45:59.459Z"
   },
   {
    "duration": 9,
    "start_time": "2023-02-19T11:45:59.494Z"
   },
   {
    "duration": 8,
    "start_time": "2023-02-19T11:45:59.504Z"
   },
   {
    "duration": 5,
    "start_time": "2023-02-19T11:45:59.513Z"
   },
   {
    "duration": 109,
    "start_time": "2023-02-19T11:45:59.520Z"
   },
   {
    "duration": 8,
    "start_time": "2023-02-19T11:46:27.169Z"
   },
   {
    "duration": 10,
    "start_time": "2023-02-19T11:46:29.561Z"
   },
   {
    "duration": 1052,
    "start_time": "2023-02-19T11:47:17.389Z"
   },
   {
    "duration": 41,
    "start_time": "2023-02-19T11:47:18.443Z"
   },
   {
    "duration": 15,
    "start_time": "2023-02-19T11:47:18.486Z"
   },
   {
    "duration": 11,
    "start_time": "2023-02-19T11:47:18.502Z"
   },
   {
    "duration": 12,
    "start_time": "2023-02-19T11:47:18.516Z"
   },
   {
    "duration": 12,
    "start_time": "2023-02-19T11:47:18.529Z"
   },
   {
    "duration": 9,
    "start_time": "2023-02-19T11:47:18.542Z"
   },
   {
    "duration": 8,
    "start_time": "2023-02-19T11:47:18.552Z"
   },
   {
    "duration": 14,
    "start_time": "2023-02-19T11:47:18.562Z"
   },
   {
    "duration": 18,
    "start_time": "2023-02-19T11:47:18.578Z"
   },
   {
    "duration": 11,
    "start_time": "2023-02-19T11:47:18.597Z"
   },
   {
    "duration": 25,
    "start_time": "2023-02-19T11:47:18.609Z"
   },
   {
    "duration": 20,
    "start_time": "2023-02-19T11:47:18.636Z"
   },
   {
    "duration": 21,
    "start_time": "2023-02-19T11:47:18.658Z"
   },
   {
    "duration": 13,
    "start_time": "2023-02-19T11:47:18.680Z"
   },
   {
    "duration": 8,
    "start_time": "2023-02-19T11:47:23.411Z"
   },
   {
    "duration": 1115,
    "start_time": "2023-02-19T11:47:38.957Z"
   },
   {
    "duration": 37,
    "start_time": "2023-02-19T11:47:40.074Z"
   },
   {
    "duration": 16,
    "start_time": "2023-02-19T11:47:40.112Z"
   },
   {
    "duration": 5,
    "start_time": "2023-02-19T11:47:40.131Z"
   },
   {
    "duration": 7,
    "start_time": "2023-02-19T11:47:40.138Z"
   },
   {
    "duration": 8,
    "start_time": "2023-02-19T11:47:40.147Z"
   },
   {
    "duration": 5,
    "start_time": "2023-02-19T11:47:40.157Z"
   },
   {
    "duration": 35,
    "start_time": "2023-02-19T11:47:40.164Z"
   },
   {
    "duration": 4,
    "start_time": "2023-02-19T11:47:40.201Z"
   },
   {
    "duration": 4,
    "start_time": "2023-02-19T11:47:40.207Z"
   },
   {
    "duration": 5,
    "start_time": "2023-02-19T11:47:40.213Z"
   },
   {
    "duration": 11,
    "start_time": "2023-02-19T11:47:40.219Z"
   },
   {
    "duration": 11,
    "start_time": "2023-02-19T11:47:40.231Z"
   },
   {
    "duration": 8,
    "start_time": "2023-02-19T11:47:40.244Z"
   },
   {
    "duration": 41,
    "start_time": "2023-02-19T11:47:40.254Z"
   },
   {
    "duration": 11,
    "start_time": "2023-02-19T11:47:40.296Z"
   },
   {
    "duration": 8,
    "start_time": "2023-02-19T12:17:07.104Z"
   },
   {
    "duration": 101,
    "start_time": "2023-02-19T12:20:34.354Z"
   },
   {
    "duration": 5,
    "start_time": "2023-02-19T12:21:55.721Z"
   },
   {
    "duration": 10,
    "start_time": "2023-02-19T12:35:45.660Z"
   },
   {
    "duration": 527,
    "start_time": "2023-02-19T12:39:34.658Z"
   },
   {
    "duration": 336,
    "start_time": "2023-02-19T12:40:18.805Z"
   },
   {
    "duration": 974,
    "start_time": "2023-02-19T12:43:30.312Z"
   },
   {
    "duration": 913,
    "start_time": "2023-02-19T12:43:38.168Z"
   },
   {
    "duration": 10,
    "start_time": "2023-02-19T12:45:40.520Z"
   },
   {
    "duration": 296,
    "start_time": "2023-02-19T12:46:04.585Z"
   },
   {
    "duration": 5,
    "start_time": "2023-02-19T12:57:05.564Z"
   },
   {
    "duration": 1531,
    "start_time": "2023-02-19T13:15:00.802Z"
   },
   {
    "duration": 39,
    "start_time": "2023-02-19T13:15:03.065Z"
   },
   {
    "duration": 14,
    "start_time": "2023-02-19T13:15:06.576Z"
   },
   {
    "duration": 7,
    "start_time": "2023-02-19T13:15:09.912Z"
   },
   {
    "duration": 6,
    "start_time": "2023-02-19T13:15:15.864Z"
   },
   {
    "duration": 10,
    "start_time": "2023-02-19T13:15:18.546Z"
   },
   {
    "duration": 5,
    "start_time": "2023-02-19T13:15:23.888Z"
   },
   {
    "duration": 6,
    "start_time": "2023-02-19T13:15:37.754Z"
   },
   {
    "duration": 5,
    "start_time": "2023-02-19T13:15:40.569Z"
   },
   {
    "duration": 1277,
    "start_time": "2023-02-19T13:17:31.952Z"
   },
   {
    "duration": 38,
    "start_time": "2023-02-19T13:17:33.231Z"
   },
   {
    "duration": 11,
    "start_time": "2023-02-19T13:17:33.271Z"
   },
   {
    "duration": 4,
    "start_time": "2023-02-19T13:17:37.665Z"
   },
   {
    "duration": 6,
    "start_time": "2023-02-19T13:17:42.905Z"
   },
   {
    "duration": 6,
    "start_time": "2023-02-19T13:17:45.800Z"
   },
   {
    "duration": 9,
    "start_time": "2023-02-19T13:17:48.370Z"
   },
   {
    "duration": 7,
    "start_time": "2023-02-19T13:18:07.729Z"
   },
   {
    "duration": 4,
    "start_time": "2023-02-19T13:18:09.713Z"
   },
   {
    "duration": 4,
    "start_time": "2023-02-19T13:18:11.145Z"
   },
   {
    "duration": 9,
    "start_time": "2023-02-19T13:18:20.048Z"
   },
   {
    "duration": 320,
    "start_time": "2023-02-19T13:18:23.757Z"
   },
   {
    "duration": 9,
    "start_time": "2023-02-19T13:18:26.722Z"
   },
   {
    "duration": 259,
    "start_time": "2023-02-19T13:18:27.641Z"
   },
   {
    "duration": 291,
    "start_time": "2023-02-19T13:21:51.474Z"
   },
   {
    "duration": 255,
    "start_time": "2023-02-19T13:22:18.742Z"
   },
   {
    "duration": 3,
    "start_time": "2023-02-19T13:26:02.882Z"
   },
   {
    "duration": 7,
    "start_time": "2023-02-19T13:26:05.184Z"
   },
   {
    "duration": 10,
    "start_time": "2023-02-19T13:26:06.768Z"
   },
   {
    "duration": 9,
    "start_time": "2023-02-19T13:26:08.367Z"
   },
   {
    "duration": 8,
    "start_time": "2023-02-19T13:26:09.560Z"
   },
   {
    "duration": 9,
    "start_time": "2023-02-19T13:26:10.935Z"
   },
   {
    "duration": 1408,
    "start_time": "2023-02-19T13:33:34.324Z"
   },
   {
    "duration": 37,
    "start_time": "2023-02-19T13:33:35.734Z"
   },
   {
    "duration": 13,
    "start_time": "2023-02-19T13:33:35.773Z"
   },
   {
    "duration": 25,
    "start_time": "2023-02-19T13:33:35.788Z"
   },
   {
    "duration": 9,
    "start_time": "2023-02-19T13:33:35.815Z"
   },
   {
    "duration": 7,
    "start_time": "2023-02-19T13:33:35.825Z"
   },
   {
    "duration": 11,
    "start_time": "2023-02-19T13:33:35.834Z"
   },
   {
    "duration": 7,
    "start_time": "2023-02-19T13:33:35.847Z"
   },
   {
    "duration": 26,
    "start_time": "2023-02-19T13:33:35.856Z"
   },
   {
    "duration": 13,
    "start_time": "2023-02-19T13:33:35.885Z"
   },
   {
    "duration": 19,
    "start_time": "2023-02-19T13:33:35.900Z"
   },
   {
    "duration": 278,
    "start_time": "2023-02-19T13:33:35.921Z"
   },
   {
    "duration": 10,
    "start_time": "2023-02-19T13:33:36.201Z"
   },
   {
    "duration": 293,
    "start_time": "2023-02-19T13:33:36.213Z"
   },
   {
    "duration": 4,
    "start_time": "2023-02-19T13:33:36.508Z"
   },
   {
    "duration": 21,
    "start_time": "2023-02-19T13:33:40.938Z"
   },
   {
    "duration": 9,
    "start_time": "2023-02-19T13:33:49.867Z"
   },
   {
    "duration": 58,
    "start_time": "2023-02-19T13:36:02.675Z"
   },
   {
    "duration": 10,
    "start_time": "2023-02-19T13:36:14.393Z"
   },
   {
    "duration": 4,
    "start_time": "2023-02-19T13:37:31.259Z"
   },
   {
    "duration": 5,
    "start_time": "2023-02-19T13:39:59.672Z"
   },
   {
    "duration": 5,
    "start_time": "2023-02-19T13:41:07.796Z"
   },
   {
    "duration": 5,
    "start_time": "2023-02-19T13:41:08.752Z"
   },
   {
    "duration": 5,
    "start_time": "2023-02-19T13:41:12.625Z"
   },
   {
    "duration": 5,
    "start_time": "2023-02-19T13:41:16.416Z"
   },
   {
    "duration": 6,
    "start_time": "2023-02-19T13:41:17.224Z"
   },
   {
    "duration": 5,
    "start_time": "2023-02-19T13:54:54.299Z"
   },
   {
    "duration": 10,
    "start_time": "2023-02-19T13:54:56.593Z"
   },
   {
    "duration": 5,
    "start_time": "2023-02-19T13:56:09.736Z"
   },
   {
    "duration": 5,
    "start_time": "2023-02-19T13:58:59.328Z"
   },
   {
    "duration": 4,
    "start_time": "2023-02-19T14:05:34.720Z"
   },
   {
    "duration": 9,
    "start_time": "2023-02-19T14:05:59.315Z"
   },
   {
    "duration": 3,
    "start_time": "2023-02-19T14:07:18.330Z"
   },
   {
    "duration": 105,
    "start_time": "2023-02-19T14:07:19.249Z"
   },
   {
    "duration": 4,
    "start_time": "2023-02-19T14:08:44.817Z"
   },
   {
    "duration": 9,
    "start_time": "2023-02-19T14:08:45.513Z"
   },
   {
    "duration": 3,
    "start_time": "2023-02-19T14:09:20.804Z"
   },
   {
    "duration": 10,
    "start_time": "2023-02-19T14:09:23.576Z"
   },
   {
    "duration": 1246,
    "start_time": "2023-02-19T14:09:43.541Z"
   },
   {
    "duration": 48,
    "start_time": "2023-02-19T14:09:44.789Z"
   },
   {
    "duration": 10,
    "start_time": "2023-02-19T14:09:44.839Z"
   },
   {
    "duration": 4,
    "start_time": "2023-02-19T14:09:44.851Z"
   },
   {
    "duration": 6,
    "start_time": "2023-02-19T14:09:44.856Z"
   },
   {
    "duration": 4,
    "start_time": "2023-02-19T14:09:44.864Z"
   },
   {
    "duration": 8,
    "start_time": "2023-02-19T14:09:44.870Z"
   },
   {
    "duration": 5,
    "start_time": "2023-02-19T14:09:44.879Z"
   },
   {
    "duration": 23,
    "start_time": "2023-02-19T14:09:44.886Z"
   },
   {
    "duration": 4,
    "start_time": "2023-02-19T14:09:44.912Z"
   },
   {
    "duration": 11,
    "start_time": "2023-02-19T14:09:44.918Z"
   },
   {
    "duration": 243,
    "start_time": "2023-02-19T14:09:44.931Z"
   },
   {
    "duration": 27,
    "start_time": "2023-02-19T14:09:45.176Z"
   },
   {
    "duration": 271,
    "start_time": "2023-02-19T14:09:45.204Z"
   },
   {
    "duration": 16,
    "start_time": "2023-02-19T14:09:45.477Z"
   },
   {
    "duration": 38,
    "start_time": "2023-02-19T14:09:45.495Z"
   },
   {
    "duration": 8,
    "start_time": "2023-02-19T14:09:45.535Z"
   },
   {
    "duration": 10,
    "start_time": "2023-02-19T14:09:45.545Z"
   },
   {
    "duration": 4,
    "start_time": "2023-02-19T14:09:45.557Z"
   },
   {
    "duration": 223,
    "start_time": "2023-02-19T14:09:45.563Z"
   },
   {
    "duration": 0,
    "start_time": "2023-02-19T14:09:45.790Z"
   },
   {
    "duration": 8,
    "start_time": "2023-02-19T14:09:50.241Z"
   },
   {
    "duration": 1278,
    "start_time": "2023-02-19T14:11:11.729Z"
   },
   {
    "duration": 43,
    "start_time": "2023-02-19T14:11:13.009Z"
   },
   {
    "duration": 11,
    "start_time": "2023-02-19T14:11:13.054Z"
   },
   {
    "duration": 4,
    "start_time": "2023-02-19T14:11:13.067Z"
   },
   {
    "duration": 5,
    "start_time": "2023-02-19T14:11:13.073Z"
   },
   {
    "duration": 6,
    "start_time": "2023-02-19T14:11:13.080Z"
   },
   {
    "duration": 22,
    "start_time": "2023-02-19T14:11:13.088Z"
   },
   {
    "duration": 6,
    "start_time": "2023-02-19T14:11:13.112Z"
   },
   {
    "duration": 5,
    "start_time": "2023-02-19T14:11:13.119Z"
   },
   {
    "duration": 4,
    "start_time": "2023-02-19T14:11:13.126Z"
   },
   {
    "duration": 12,
    "start_time": "2023-02-19T14:11:13.132Z"
   },
   {
    "duration": 286,
    "start_time": "2023-02-19T14:11:13.145Z"
   },
   {
    "duration": 10,
    "start_time": "2023-02-19T14:11:13.433Z"
   },
   {
    "duration": 303,
    "start_time": "2023-02-19T14:11:13.446Z"
   },
   {
    "duration": 4,
    "start_time": "2023-02-19T14:11:13.750Z"
   },
   {
    "duration": 41,
    "start_time": "2023-02-19T14:11:13.755Z"
   },
   {
    "duration": 9,
    "start_time": "2023-02-19T14:11:13.802Z"
   },
   {
    "duration": 17,
    "start_time": "2023-02-19T14:11:13.813Z"
   },
   {
    "duration": 4,
    "start_time": "2023-02-19T14:11:13.831Z"
   },
   {
    "duration": 9,
    "start_time": "2023-02-19T14:11:18.288Z"
   },
   {
    "duration": 7,
    "start_time": "2023-02-19T14:11:23.810Z"
   },
   {
    "duration": 3,
    "start_time": "2023-02-19T14:11:28.744Z"
   },
   {
    "duration": 104,
    "start_time": "2023-02-19T14:11:30.448Z"
   },
   {
    "duration": 6,
    "start_time": "2023-02-19T14:12:44.688Z"
   },
   {
    "duration": 1334,
    "start_time": "2023-02-19T14:13:30.972Z"
   },
   {
    "duration": 38,
    "start_time": "2023-02-19T14:13:32.308Z"
   },
   {
    "duration": 11,
    "start_time": "2023-02-19T14:13:32.348Z"
   },
   {
    "duration": 3,
    "start_time": "2023-02-19T14:13:32.361Z"
   },
   {
    "duration": 7,
    "start_time": "2023-02-19T14:13:32.366Z"
   },
   {
    "duration": 9,
    "start_time": "2023-02-19T14:13:32.374Z"
   },
   {
    "duration": 14,
    "start_time": "2023-02-19T14:13:32.384Z"
   },
   {
    "duration": 6,
    "start_time": "2023-02-19T14:13:32.404Z"
   },
   {
    "duration": 7,
    "start_time": "2023-02-19T14:13:32.412Z"
   },
   {
    "duration": 5,
    "start_time": "2023-02-19T14:13:32.422Z"
   },
   {
    "duration": 11,
    "start_time": "2023-02-19T14:13:32.428Z"
   },
   {
    "duration": 282,
    "start_time": "2023-02-19T14:13:32.441Z"
   },
   {
    "duration": 9,
    "start_time": "2023-02-19T14:13:32.725Z"
   },
   {
    "duration": 230,
    "start_time": "2023-02-19T14:13:32.736Z"
   },
   {
    "duration": 34,
    "start_time": "2023-02-19T14:13:32.968Z"
   },
   {
    "duration": 31,
    "start_time": "2023-02-19T14:13:33.004Z"
   },
   {
    "duration": 8,
    "start_time": "2023-02-19T14:13:33.037Z"
   },
   {
    "duration": 9,
    "start_time": "2023-02-19T14:13:33.046Z"
   },
   {
    "duration": 4,
    "start_time": "2023-02-19T14:13:33.056Z"
   },
   {
    "duration": 31,
    "start_time": "2023-02-19T14:13:33.062Z"
   },
   {
    "duration": 99,
    "start_time": "2023-02-19T14:13:33.094Z"
   },
   {
    "duration": 3,
    "start_time": "2023-02-19T14:13:37.632Z"
   },
   {
    "duration": 11,
    "start_time": "2023-02-19T14:13:38.328Z"
   },
   {
    "duration": 11,
    "start_time": "2023-02-19T14:14:00.555Z"
   },
   {
    "duration": 9,
    "start_time": "2023-02-19T14:14:26.352Z"
   },
   {
    "duration": 1286,
    "start_time": "2023-02-19T14:18:58.037Z"
   },
   {
    "duration": 38,
    "start_time": "2023-02-19T14:18:59.324Z"
   },
   {
    "duration": 11,
    "start_time": "2023-02-19T14:18:59.364Z"
   },
   {
    "duration": 4,
    "start_time": "2023-02-19T14:18:59.377Z"
   },
   {
    "duration": 14,
    "start_time": "2023-02-19T14:18:59.382Z"
   },
   {
    "duration": 22,
    "start_time": "2023-02-19T14:18:59.397Z"
   },
   {
    "duration": 9,
    "start_time": "2023-02-19T14:18:59.420Z"
   },
   {
    "duration": 6,
    "start_time": "2023-02-19T14:18:59.431Z"
   },
   {
    "duration": 7,
    "start_time": "2023-02-19T14:18:59.438Z"
   },
   {
    "duration": 3,
    "start_time": "2023-02-19T14:18:59.447Z"
   },
   {
    "duration": 10,
    "start_time": "2023-02-19T14:18:59.452Z"
   },
   {
    "duration": 290,
    "start_time": "2023-02-19T14:18:59.463Z"
   },
   {
    "duration": 8,
    "start_time": "2023-02-19T14:18:59.755Z"
   },
   {
    "duration": 294,
    "start_time": "2023-02-19T14:18:59.765Z"
   },
   {
    "duration": 4,
    "start_time": "2023-02-19T14:19:00.061Z"
   },
   {
    "duration": 22,
    "start_time": "2023-02-19T14:19:06.434Z"
   },
   {
    "duration": 8,
    "start_time": "2023-02-19T14:19:14.256Z"
   },
   {
    "duration": 8,
    "start_time": "2023-02-19T14:19:17.755Z"
   },
   {
    "duration": 4,
    "start_time": "2023-02-19T14:19:21.217Z"
   },
   {
    "duration": 16,
    "start_time": "2023-02-19T14:19:24.089Z"
   },
   {
    "duration": 4,
    "start_time": "2023-02-19T14:19:31.153Z"
   },
   {
    "duration": 4,
    "start_time": "2023-02-19T14:19:39.280Z"
   },
   {
    "duration": 9,
    "start_time": "2023-02-19T14:19:40.440Z"
   },
   {
    "duration": 8,
    "start_time": "2023-02-19T14:19:42.304Z"
   },
   {
    "duration": 12,
    "start_time": "2023-02-19T14:21:06.425Z"
   },
   {
    "duration": 111,
    "start_time": "2023-02-19T14:24:32.009Z"
   },
   {
    "duration": 15,
    "start_time": "2023-02-19T14:25:29.762Z"
   },
   {
    "duration": 3,
    "start_time": "2023-02-19T14:56:11.632Z"
   },
   {
    "duration": 5,
    "start_time": "2023-02-19T15:00:26.177Z"
   },
   {
    "duration": 1467,
    "start_time": "2023-02-19T17:39:42.475Z"
   },
   {
    "duration": 97,
    "start_time": "2023-02-19T17:39:43.943Z"
   },
   {
    "duration": 11,
    "start_time": "2023-02-19T17:39:44.041Z"
   },
   {
    "duration": 62,
    "start_time": "2023-02-19T17:39:44.054Z"
   },
   {
    "duration": 51,
    "start_time": "2023-02-19T17:39:44.119Z"
   },
   {
    "duration": 48,
    "start_time": "2023-02-19T17:39:44.172Z"
   },
   {
    "duration": 29,
    "start_time": "2023-02-19T17:39:44.221Z"
   },
   {
    "duration": 5,
    "start_time": "2023-02-19T17:39:44.252Z"
   },
   {
    "duration": 10,
    "start_time": "2023-02-19T17:39:44.259Z"
   },
   {
    "duration": 5,
    "start_time": "2023-02-19T17:39:44.271Z"
   },
   {
    "duration": 16,
    "start_time": "2023-02-19T17:39:44.278Z"
   },
   {
    "duration": 353,
    "start_time": "2023-02-19T17:39:44.296Z"
   },
   {
    "duration": 9,
    "start_time": "2023-02-19T17:39:44.652Z"
   },
   {
    "duration": 246,
    "start_time": "2023-02-19T17:39:44.664Z"
   },
   {
    "duration": 3,
    "start_time": "2023-02-19T17:39:44.912Z"
   },
   {
    "duration": 60,
    "start_time": "2023-02-19T17:39:44.916Z"
   },
   {
    "duration": 8,
    "start_time": "2023-02-19T17:39:44.977Z"
   },
   {
    "duration": 63,
    "start_time": "2023-02-19T17:39:44.986Z"
   },
   {
    "duration": 53,
    "start_time": "2023-02-19T17:39:45.050Z"
   },
   {
    "duration": 18,
    "start_time": "2023-02-19T17:39:45.104Z"
   },
   {
    "duration": 126,
    "start_time": "2023-02-19T17:39:45.123Z"
   },
   {
    "duration": 93,
    "start_time": "2023-02-19T17:39:45.251Z"
   },
   {
    "duration": 33,
    "start_time": "2023-02-19T17:39:45.346Z"
   },
   {
    "duration": 40,
    "start_time": "2023-02-19T17:39:45.381Z"
   },
   {
    "duration": 25,
    "start_time": "2023-02-19T17:39:45.423Z"
   },
   {
    "duration": 39,
    "start_time": "2023-02-19T17:39:45.450Z"
   },
   {
    "duration": 113,
    "start_time": "2023-02-19T17:43:52.024Z"
   },
   {
    "duration": 11,
    "start_time": "2023-02-19T17:44:36.555Z"
   },
   {
    "duration": 3,
    "start_time": "2023-02-19T17:49:56.846Z"
   },
   {
    "duration": 16,
    "start_time": "2023-02-19T17:50:14.096Z"
   },
   {
    "duration": 12,
    "start_time": "2023-02-19T17:50:58.404Z"
   },
   {
    "duration": 1745,
    "start_time": "2023-02-19T17:55:13.828Z"
   },
   {
    "duration": 45,
    "start_time": "2023-02-19T17:55:15.575Z"
   },
   {
    "duration": 18,
    "start_time": "2023-02-19T17:55:15.622Z"
   },
   {
    "duration": 34,
    "start_time": "2023-02-19T17:55:15.643Z"
   },
   {
    "duration": 47,
    "start_time": "2023-02-19T17:55:15.680Z"
   },
   {
    "duration": 31,
    "start_time": "2023-02-19T17:55:15.729Z"
   },
   {
    "duration": 36,
    "start_time": "2023-02-19T17:55:15.762Z"
   },
   {
    "duration": 12,
    "start_time": "2023-02-19T17:55:15.801Z"
   },
   {
    "duration": 17,
    "start_time": "2023-02-19T17:55:15.815Z"
   },
   {
    "duration": 23,
    "start_time": "2023-02-19T17:55:15.834Z"
   },
   {
    "duration": 29,
    "start_time": "2023-02-19T17:55:15.859Z"
   },
   {
    "duration": 336,
    "start_time": "2023-02-19T17:55:15.890Z"
   },
   {
    "duration": 22,
    "start_time": "2023-02-19T17:55:16.228Z"
   },
   {
    "duration": 296,
    "start_time": "2023-02-19T17:55:16.254Z"
   },
   {
    "duration": 6,
    "start_time": "2023-02-19T17:55:16.552Z"
   },
   {
    "duration": 79,
    "start_time": "2023-02-19T17:55:16.560Z"
   },
   {
    "duration": 89,
    "start_time": "2023-02-19T17:55:16.640Z"
   },
   {
    "duration": 127,
    "start_time": "2023-02-19T17:55:16.731Z"
   },
   {
    "duration": 42,
    "start_time": "2023-02-19T17:55:16.861Z"
   },
   {
    "duration": 28,
    "start_time": "2023-02-19T17:55:16.905Z"
   },
   {
    "duration": 33,
    "start_time": "2023-02-19T17:55:16.935Z"
   },
   {
    "duration": 78,
    "start_time": "2023-02-19T17:55:16.970Z"
   },
   {
    "duration": 10,
    "start_time": "2023-02-19T17:55:17.051Z"
   },
   {
    "duration": 24,
    "start_time": "2023-02-19T17:55:17.063Z"
   },
   {
    "duration": 19,
    "start_time": "2023-02-19T17:55:17.088Z"
   },
   {
    "duration": 15,
    "start_time": "2023-02-19T17:55:31.812Z"
   },
   {
    "duration": 11,
    "start_time": "2023-02-19T17:56:34.808Z"
   },
   {
    "duration": 1228,
    "start_time": "2023-02-19T17:58:18.710Z"
   },
   {
    "duration": 37,
    "start_time": "2023-02-19T17:58:19.940Z"
   },
   {
    "duration": 12,
    "start_time": "2023-02-19T17:58:19.978Z"
   },
   {
    "duration": 14,
    "start_time": "2023-02-19T17:58:19.992Z"
   },
   {
    "duration": 32,
    "start_time": "2023-02-19T17:58:20.008Z"
   },
   {
    "duration": 33,
    "start_time": "2023-02-19T17:58:20.041Z"
   },
   {
    "duration": 17,
    "start_time": "2023-02-19T17:58:20.076Z"
   },
   {
    "duration": 14,
    "start_time": "2023-02-19T17:58:20.095Z"
   },
   {
    "duration": 37,
    "start_time": "2023-02-19T17:58:20.111Z"
   },
   {
    "duration": 25,
    "start_time": "2023-02-19T17:58:20.151Z"
   },
   {
    "duration": 25,
    "start_time": "2023-02-19T17:58:20.178Z"
   },
   {
    "duration": 314,
    "start_time": "2023-02-19T17:58:20.204Z"
   },
   {
    "duration": 10,
    "start_time": "2023-02-19T17:58:20.519Z"
   },
   {
    "duration": 255,
    "start_time": "2023-02-19T17:58:20.548Z"
   },
   {
    "duration": 9,
    "start_time": "2023-02-19T18:01:33.336Z"
   },
   {
    "duration": 4,
    "start_time": "2023-02-19T18:01:48.148Z"
   },
   {
    "duration": 6,
    "start_time": "2023-02-19T18:01:50.828Z"
   },
   {
    "duration": 4,
    "start_time": "2023-02-19T18:02:05.781Z"
   },
   {
    "duration": 4,
    "start_time": "2023-02-19T18:02:10.778Z"
   },
   {
    "duration": 8,
    "start_time": "2023-02-19T18:02:14.506Z"
   },
   {
    "duration": 9,
    "start_time": "2023-02-19T18:02:18.452Z"
   },
   {
    "duration": 4,
    "start_time": "2023-02-19T18:02:28.383Z"
   },
   {
    "duration": 12,
    "start_time": "2023-02-19T18:02:31.207Z"
   },
   {
    "duration": 12,
    "start_time": "2023-02-19T18:02:52.574Z"
   },
   {
    "duration": 14,
    "start_time": "2023-02-19T18:03:09.132Z"
   },
   {
    "duration": 13,
    "start_time": "2023-02-19T18:05:00.988Z"
   },
   {
    "duration": 12,
    "start_time": "2023-02-19T18:05:41.322Z"
   },
   {
    "duration": 11,
    "start_time": "2023-02-19T18:06:27.184Z"
   },
   {
    "duration": 11,
    "start_time": "2023-02-19T18:06:59.195Z"
   },
   {
    "duration": 8,
    "start_time": "2023-02-19T18:07:00.776Z"
   },
   {
    "duration": 1353,
    "start_time": "2023-02-19T18:16:25.174Z"
   },
   {
    "duration": 38,
    "start_time": "2023-02-19T18:16:26.530Z"
   },
   {
    "duration": 47,
    "start_time": "2023-02-19T18:16:26.570Z"
   },
   {
    "duration": 40,
    "start_time": "2023-02-19T18:16:26.620Z"
   },
   {
    "duration": 39,
    "start_time": "2023-02-19T18:16:26.663Z"
   },
   {
    "duration": 86,
    "start_time": "2023-02-19T18:16:26.704Z"
   },
   {
    "duration": 28,
    "start_time": "2023-02-19T18:16:26.792Z"
   },
   {
    "duration": 49,
    "start_time": "2023-02-19T18:16:26.821Z"
   },
   {
    "duration": 27,
    "start_time": "2023-02-19T18:16:26.871Z"
   },
   {
    "duration": 32,
    "start_time": "2023-02-19T18:16:26.900Z"
   },
   {
    "duration": 33,
    "start_time": "2023-02-19T18:16:26.934Z"
   },
   {
    "duration": 27,
    "start_time": "2023-02-19T18:16:26.969Z"
   },
   {
    "duration": 331,
    "start_time": "2023-02-19T18:16:26.997Z"
   },
   {
    "duration": 20,
    "start_time": "2023-02-19T18:16:27.331Z"
   },
   {
    "duration": 309,
    "start_time": "2023-02-19T18:16:27.352Z"
   },
   {
    "duration": 11,
    "start_time": "2023-02-19T18:16:35.627Z"
   },
   {
    "duration": 4,
    "start_time": "2023-02-19T18:16:42.944Z"
   },
   {
    "duration": 7,
    "start_time": "2023-02-19T18:16:49.880Z"
   },
   {
    "duration": 5,
    "start_time": "2023-02-19T18:16:51.470Z"
   },
   {
    "duration": 5,
    "start_time": "2023-02-19T18:17:01.670Z"
   },
   {
    "duration": 12,
    "start_time": "2023-02-19T18:17:03.705Z"
   },
   {
    "duration": 8,
    "start_time": "2023-02-19T18:17:06.585Z"
   },
   {
    "duration": 8,
    "start_time": "2023-02-19T18:18:03.226Z"
   },
   {
    "duration": 98,
    "start_time": "2023-02-19T18:19:47.427Z"
   },
   {
    "duration": 10,
    "start_time": "2023-02-19T18:20:15.556Z"
   },
   {
    "duration": 3,
    "start_time": "2023-02-19T18:20:32.603Z"
   },
   {
    "duration": 13,
    "start_time": "2023-02-19T18:20:36.021Z"
   },
   {
    "duration": 9,
    "start_time": "2023-02-19T18:22:42.049Z"
   },
   {
    "duration": 4,
    "start_time": "2023-02-19T18:23:03.497Z"
   },
   {
    "duration": 1361,
    "start_time": "2023-02-19T18:52:39.308Z"
   },
   {
    "duration": 39,
    "start_time": "2023-02-19T18:52:40.671Z"
   },
   {
    "duration": 12,
    "start_time": "2023-02-19T18:52:40.711Z"
   },
   {
    "duration": 12,
    "start_time": "2023-02-19T18:52:40.724Z"
   },
   {
    "duration": 8,
    "start_time": "2023-02-19T18:52:40.738Z"
   },
   {
    "duration": 23,
    "start_time": "2023-02-19T18:52:40.749Z"
   },
   {
    "duration": 18,
    "start_time": "2023-02-19T18:52:40.774Z"
   },
   {
    "duration": 12,
    "start_time": "2023-02-19T18:52:40.793Z"
   },
   {
    "duration": 12,
    "start_time": "2023-02-19T18:52:40.807Z"
   },
   {
    "duration": 11,
    "start_time": "2023-02-19T18:52:40.820Z"
   },
   {
    "duration": 7,
    "start_time": "2023-02-19T18:52:40.832Z"
   },
   {
    "duration": 18,
    "start_time": "2023-02-19T18:52:40.840Z"
   },
   {
    "duration": 275,
    "start_time": "2023-02-19T18:52:40.860Z"
   },
   {
    "duration": 18,
    "start_time": "2023-02-19T18:52:41.138Z"
   },
   {
    "duration": 259,
    "start_time": "2023-02-19T18:52:41.161Z"
   },
   {
    "duration": 9,
    "start_time": "2023-02-19T18:52:41.421Z"
   },
   {
    "duration": 20,
    "start_time": "2023-02-19T18:52:41.431Z"
   },
   {
    "duration": 15,
    "start_time": "2023-02-19T18:52:41.456Z"
   },
   {
    "duration": 7,
    "start_time": "2023-02-19T18:52:41.473Z"
   },
   {
    "duration": 75,
    "start_time": "2023-02-19T18:52:41.482Z"
   },
   {
    "duration": 92,
    "start_time": "2023-02-19T18:52:41.559Z"
   },
   {
    "duration": 9,
    "start_time": "2023-02-19T18:52:41.658Z"
   },
   {
    "duration": 14,
    "start_time": "2023-02-19T18:52:41.668Z"
   },
   {
    "duration": 4,
    "start_time": "2023-02-19T18:52:41.684Z"
   },
   {
    "duration": 15,
    "start_time": "2023-02-19T18:52:41.689Z"
   },
   {
    "duration": 8,
    "start_time": "2023-02-19T18:52:41.705Z"
   },
   {
    "duration": 12,
    "start_time": "2023-02-19T18:52:41.715Z"
   },
   {
    "duration": 1646,
    "start_time": "2023-02-20T06:51:54.801Z"
   },
   {
    "duration": 0,
    "start_time": "2023-02-20T06:51:56.451Z"
   },
   {
    "duration": 0,
    "start_time": "2023-02-20T06:51:56.453Z"
   },
   {
    "duration": 0,
    "start_time": "2023-02-20T06:51:56.455Z"
   },
   {
    "duration": 0,
    "start_time": "2023-02-20T06:51:56.456Z"
   },
   {
    "duration": 0,
    "start_time": "2023-02-20T06:51:56.458Z"
   },
   {
    "duration": 0,
    "start_time": "2023-02-20T06:51:56.459Z"
   },
   {
    "duration": 0,
    "start_time": "2023-02-20T06:51:56.460Z"
   },
   {
    "duration": 0,
    "start_time": "2023-02-20T06:51:56.462Z"
   },
   {
    "duration": 0,
    "start_time": "2023-02-20T06:51:56.463Z"
   },
   {
    "duration": 0,
    "start_time": "2023-02-20T06:51:56.464Z"
   },
   {
    "duration": 0,
    "start_time": "2023-02-20T06:51:56.466Z"
   },
   {
    "duration": 0,
    "start_time": "2023-02-20T06:51:56.467Z"
   },
   {
    "duration": 9,
    "start_time": "2023-02-20T06:52:01.314Z"
   },
   {
    "duration": 57,
    "start_time": "2023-02-20T06:58:54.314Z"
   },
   {
    "duration": 3131,
    "start_time": "2023-02-20T06:59:01.137Z"
   },
   {
    "duration": 19,
    "start_time": "2023-02-20T06:59:12.708Z"
   },
   {
    "duration": 106,
    "start_time": "2023-02-20T06:59:15.994Z"
   },
   {
    "duration": 14,
    "start_time": "2023-02-20T06:59:19.387Z"
   },
   {
    "duration": 5,
    "start_time": "2023-02-20T06:59:20.345Z"
   },
   {
    "duration": 6,
    "start_time": "2023-02-20T06:59:25.803Z"
   },
   {
    "duration": 6,
    "start_time": "2023-02-20T06:59:27.561Z"
   },
   {
    "duration": 9,
    "start_time": "2023-02-20T06:59:29.635Z"
   },
   {
    "duration": 6,
    "start_time": "2023-02-20T06:59:41.274Z"
   },
   {
    "duration": 7,
    "start_time": "2023-02-20T06:59:44.772Z"
   },
   {
    "duration": 5,
    "start_time": "2023-02-20T06:59:46.380Z"
   },
   {
    "duration": 4,
    "start_time": "2023-02-20T06:59:47.507Z"
   },
   {
    "duration": 67,
    "start_time": "2023-02-20T07:00:02.322Z"
   },
   {
    "duration": 16,
    "start_time": "2023-02-20T07:00:34.796Z"
   },
   {
    "duration": 558,
    "start_time": "2023-02-20T07:01:47.286Z"
   },
   {
    "duration": 372,
    "start_time": "2023-02-20T07:02:16.142Z"
   },
   {
    "duration": 63,
    "start_time": "2023-02-20T07:04:18.696Z"
   },
   {
    "duration": 63,
    "start_time": "2023-02-20T07:09:47.813Z"
   },
   {
    "duration": 120,
    "start_time": "2023-02-20T07:11:15.791Z"
   },
   {
    "duration": 186,
    "start_time": "2023-02-20T07:11:41.207Z"
   },
   {
    "duration": 109,
    "start_time": "2023-02-20T07:11:57.520Z"
   },
   {
    "duration": 315,
    "start_time": "2023-02-20T07:12:15.890Z"
   },
   {
    "duration": 2070,
    "start_time": "2023-02-20T07:16:20.904Z"
   },
   {
    "duration": 1363,
    "start_time": "2023-02-20T07:16:22.976Z"
   },
   {
    "duration": 36,
    "start_time": "2023-02-20T07:16:24.341Z"
   },
   {
    "duration": 11,
    "start_time": "2023-02-20T07:16:24.379Z"
   },
   {
    "duration": 16,
    "start_time": "2023-02-20T07:16:24.392Z"
   },
   {
    "duration": 34,
    "start_time": "2023-02-20T07:16:24.409Z"
   },
   {
    "duration": 20,
    "start_time": "2023-02-20T07:16:24.444Z"
   },
   {
    "duration": 44,
    "start_time": "2023-02-20T07:16:24.465Z"
   },
   {
    "duration": 38,
    "start_time": "2023-02-20T07:16:24.510Z"
   },
   {
    "duration": 18,
    "start_time": "2023-02-20T07:16:24.549Z"
   },
   {
    "duration": 36,
    "start_time": "2023-02-20T07:16:24.568Z"
   },
   {
    "duration": 16,
    "start_time": "2023-02-20T07:16:24.606Z"
   },
   {
    "duration": 37,
    "start_time": "2023-02-20T07:16:24.623Z"
   },
   {
    "duration": 22,
    "start_time": "2023-02-20T07:16:24.663Z"
   },
   {
    "duration": 91,
    "start_time": "2023-02-20T07:16:24.687Z"
   },
   {
    "duration": 423,
    "start_time": "2023-02-20T07:16:24.779Z"
   },
   {
    "duration": 2,
    "start_time": "2023-02-20T07:16:25.204Z"
   },
   {
    "duration": 6,
    "start_time": "2023-02-20T07:16:25.208Z"
   },
   {
    "duration": 57,
    "start_time": "2023-02-20T07:16:25.215Z"
   },
   {
    "duration": 350,
    "start_time": "2023-02-20T07:16:25.274Z"
   },
   {
    "duration": 9,
    "start_time": "2023-02-20T07:16:25.626Z"
   },
   {
    "duration": 50,
    "start_time": "2023-02-20T07:16:25.636Z"
   },
   {
    "duration": 25,
    "start_time": "2023-02-20T07:16:25.687Z"
   },
   {
    "duration": 79,
    "start_time": "2023-02-20T07:16:25.714Z"
   },
   {
    "duration": 97,
    "start_time": "2023-02-20T07:16:25.795Z"
   },
   {
    "duration": 9,
    "start_time": "2023-02-20T07:16:25.894Z"
   },
   {
    "duration": 28,
    "start_time": "2023-02-20T07:16:25.904Z"
   },
   {
    "duration": 29,
    "start_time": "2023-02-20T07:16:25.934Z"
   },
   {
    "duration": 20,
    "start_time": "2023-02-20T07:16:25.965Z"
   },
   {
    "duration": 31,
    "start_time": "2023-02-20T07:16:25.987Z"
   },
   {
    "duration": 16,
    "start_time": "2023-02-20T07:16:26.020Z"
   },
   {
    "duration": 20,
    "start_time": "2023-02-20T07:16:26.037Z"
   },
   {
    "duration": 2212,
    "start_time": "2023-02-20T07:19:35.356Z"
   },
   {
    "duration": 1364,
    "start_time": "2023-02-20T07:19:37.570Z"
   },
   {
    "duration": 38,
    "start_time": "2023-02-20T07:19:38.936Z"
   },
   {
    "duration": 17,
    "start_time": "2023-02-20T07:19:38.976Z"
   },
   {
    "duration": 5,
    "start_time": "2023-02-20T07:19:38.996Z"
   },
   {
    "duration": 8,
    "start_time": "2023-02-20T07:19:39.003Z"
   },
   {
    "duration": 6,
    "start_time": "2023-02-20T07:19:39.013Z"
   },
   {
    "duration": 12,
    "start_time": "2023-02-20T07:19:39.021Z"
   },
   {
    "duration": 4,
    "start_time": "2023-02-20T07:19:39.035Z"
   },
   {
    "duration": 8,
    "start_time": "2023-02-20T07:19:39.040Z"
   },
   {
    "duration": 10,
    "start_time": "2023-02-20T07:19:39.049Z"
   },
   {
    "duration": 32,
    "start_time": "2023-02-20T07:19:39.060Z"
   },
   {
    "duration": 6,
    "start_time": "2023-02-20T07:19:39.094Z"
   },
   {
    "duration": 5,
    "start_time": "2023-02-20T07:19:39.102Z"
   },
   {
    "duration": 67,
    "start_time": "2023-02-20T07:19:39.108Z"
   },
   {
    "duration": 446,
    "start_time": "2023-02-20T07:19:39.177Z"
   },
   {
    "duration": 3,
    "start_time": "2023-02-20T07:19:39.624Z"
   },
   {
    "duration": 9,
    "start_time": "2023-02-20T07:19:39.628Z"
   },
   {
    "duration": 66,
    "start_time": "2023-02-20T07:19:39.639Z"
   },
   {
    "duration": 403,
    "start_time": "2023-02-20T07:19:39.707Z"
   },
   {
    "duration": 9,
    "start_time": "2023-02-20T07:19:40.112Z"
   },
   {
    "duration": 5,
    "start_time": "2023-02-20T07:19:40.122Z"
   },
   {
    "duration": 11,
    "start_time": "2023-02-20T07:19:40.130Z"
   },
   {
    "duration": 60,
    "start_time": "2023-02-20T07:19:40.143Z"
   },
   {
    "duration": 87,
    "start_time": "2023-02-20T07:19:40.205Z"
   },
   {
    "duration": 9,
    "start_time": "2023-02-20T07:19:40.294Z"
   },
   {
    "duration": 10,
    "start_time": "2023-02-20T07:19:40.305Z"
   },
   {
    "duration": 12,
    "start_time": "2023-02-20T07:19:40.316Z"
   },
   {
    "duration": 2,
    "start_time": "2023-02-20T07:19:40.330Z"
   },
   {
    "duration": 15,
    "start_time": "2023-02-20T07:19:40.334Z"
   },
   {
    "duration": 9,
    "start_time": "2023-02-20T07:19:40.350Z"
   },
   {
    "duration": 5,
    "start_time": "2023-02-20T07:19:40.390Z"
   }
  ],
  "kernelspec": {
   "display_name": "Python 3 (ipykernel)",
   "language": "python",
   "name": "python3"
  },
  "language_info": {
   "codemirror_mode": {
    "name": "ipython",
    "version": 3
   },
   "file_extension": ".py",
   "mimetype": "text/x-python",
   "name": "python",
   "nbconvert_exporter": "python",
   "pygments_lexer": "ipython3",
   "version": "3.9.5"
  },
  "toc": {
   "base_numbering": 1,
   "nav_menu": {},
   "number_sections": true,
   "sideBar": true,
   "skip_h1_title": true,
   "title_cell": "Содержание",
   "title_sidebar": "Contents",
   "toc_cell": true,
   "toc_position": {
    "height": "calc(100% - 180px)",
    "left": "10px",
    "top": "150px",
    "width": "289.438px"
   },
   "toc_section_display": true,
   "toc_window_display": true
  }
 },
 "nbformat": 4,
 "nbformat_minor": 2
}
